{
  "nbformat": 4,
  "nbformat_minor": 0,
  "metadata": {
    "colab": {
      "name": "GC - Real Estate.ipynb",
      "provenance": [],
      "collapsed_sections": [],
      "authorship_tag": "ABX9TyPjQVdL3qvBCm9UhSLaQ54R",
      "include_colab_link": true
    },
    "kernelspec": {
      "name": "python3",
      "display_name": "Python 3"
    },
    "language_info": {
      "name": "python"
    }
  },
  "cells": [
    {
      "cell_type": "markdown",
      "metadata": {
        "id": "view-in-github",
        "colab_type": "text"
      },
      "source": [
        "<a href=\"https://colab.research.google.com/github/cavs1010/personal-projects/blob/main/GC_Real_Estate.ipynb\" target=\"_parent\"><img src=\"https://colab.research.google.com/assets/colab-badge.svg\" alt=\"Open In Colab\"/></a>"
      ]
    },
    {
      "cell_type": "markdown",
      "metadata": {
        "id": "rSyPSBBv0bol"
      },
      "source": [
        "#1. Data Collection"
      ]
    },
    {
      "cell_type": "markdown",
      "metadata": {
        "id": "2PxHG0sU0liJ"
      },
      "source": [
        "The data will be collected from https://www.domain.com.au/rent/gold-coast-qld/ <br> I tried using www.realestate.com.au but there is not permission."
      ]
    },
    {
      "cell_type": "code",
      "metadata": {
        "colab": {
          "base_uri": "https://localhost:8080/"
        },
        "id": "YXZoVWPq1WCF",
        "outputId": "9aa53a7e-f5e1-4d4b-e4d6-bd677e04b21e"
      },
      "source": [
        "# Install the main libraries for web scrapping\n",
        "! pip3 install requests\n",
        "! pip3 install beautifulsoup4"
      ],
      "execution_count": 1,
      "outputs": [
        {
          "output_type": "stream",
          "text": [
            "Requirement already satisfied: requests in /usr/local/lib/python3.7/dist-packages (2.23.0)\n",
            "Requirement already satisfied: chardet<4,>=3.0.2 in /usr/local/lib/python3.7/dist-packages (from requests) (3.0.4)\n",
            "Requirement already satisfied: idna<3,>=2.5 in /usr/local/lib/python3.7/dist-packages (from requests) (2.10)\n",
            "Requirement already satisfied: certifi>=2017.4.17 in /usr/local/lib/python3.7/dist-packages (from requests) (2020.12.5)\n",
            "Requirement already satisfied: urllib3!=1.25.0,!=1.25.1,<1.26,>=1.21.1 in /usr/local/lib/python3.7/dist-packages (from requests) (1.24.3)\n",
            "Requirement already satisfied: beautifulsoup4 in /usr/local/lib/python3.7/dist-packages (4.6.3)\n"
          ],
          "name": "stdout"
        }
      ]
    },
    {
      "cell_type": "code",
      "metadata": {
        "id": "_KsQiI591XLS"
      },
      "source": [
        "#Import Main Libraries\n",
        "import requests\n",
        "from bs4 import BeautifulSoup\n",
        "import pandas as pd\n",
        "import re\n",
        "import math"
      ],
      "execution_count": 2,
      "outputs": []
    },
    {
      "cell_type": "code",
      "metadata": {
        "id": "xedfTIQ82GL4"
      },
      "source": [
        "URL = 'https://www.domain.com.au/rent/gold-coast-qld/'\n",
        "page = requests.get(URL)"
      ],
      "execution_count": 3,
      "outputs": []
    },
    {
      "cell_type": "code",
      "metadata": {
        "id": "TtaPdU0c2epd"
      },
      "source": [
        "soup = BeautifulSoup(page.content, 'html.parser')"
      ],
      "execution_count": 4,
      "outputs": []
    },
    {
      "cell_type": "code",
      "metadata": {
        "id": "C3qxlzN-RJKU"
      },
      "source": [
        "#Number of web pages to read\n",
        "numberOfWebsToRead = soup.find(\"h1\", attrs={\"class\": \"css-ekkwk0\"}).text\n",
        "numberOfWebsToRead = int(re.findall(r'\\d+', numberOfWebsToRead)[0])\n",
        "numberOfWebsToRead = numberOfWebsToRead /21\n",
        "numberOfWebsToRead = math.floor(numberOfWebsToRead)"
      ],
      "execution_count": 5,
      "outputs": []
    },
    {
      "cell_type": "code",
      "metadata": {
        "id": "7uAxQ7YOQ8hi",
        "colab": {
          "base_uri": "https://localhost:8080/"
        },
        "outputId": "c34333bd-d8ca-4529-94f2-5aca597ba258"
      },
      "source": [
        " #Arrays for the ammenities in the house\n",
        " mainAddressArray = []\n",
        " secondAddressArray = []\n",
        " postalCodeArray = []\n",
        " rentArray = []\n",
        " bedsArray = []\n",
        " bathsArray = []\n",
        " parkingArray = []\n",
        " buildingTypeArray = []\n",
        "\n",
        "for i in range (1,7):\n",
        "  URL = 'https://www.domain.com.au/rent/gold-coast-qld/?page='+str(i)\n",
        "  page = requests.get(URL)\n",
        "  soup = BeautifulSoup(page.content, 'html.parser')\n",
        "  #Each element will cotain the info required for my work\n",
        "  elements = soup.find_all(\"div\", class_=\"css-1n74r2t\")\n",
        "  for element in elements:\n",
        "    mainAddress = element.find(\"span\", attrs={\"data-testid\": \"address-line1\"})\n",
        "    secondAddress = element.find(\"span\", attrs={\"itemprop\": \"addressLocality\"})\n",
        "    postalCode = element.find(\"span\", attrs={\"itemprop\": \"postalCode\"})\n",
        "    rent = element.find(\"p\", attrs={\"data-testid\": \"listing-card-price\"})\n",
        "    ammenities = element.find_all(\"span\", attrs={\"class\": \"css-1rzse3v\"})\n",
        "    buildingType = element.find(\"span\", attrs={\"class\": \"css-693528\"})\n",
        "    if all(label is not None for label in [mainAddress, secondAddress, postalCode, rent, ammenities[0], ammenities[1], ammenities[2], buildingType]):\n",
        "      mainAddressArray.append(mainAddress.text)\n",
        "      secondAddressArray.append(secondAddress.text)\n",
        "      postalCodeArray.append(postalCode.text)\n",
        "      rentArray.append(rent.text)\n",
        "      bedsArray.append(ammenities[0].text)\n",
        "      bathsArray.append(ammenities[1].text)\n",
        "      parkingArray.append(ammenities[2].text)\n",
        "      buildingTypeArray.append(buildingType.text)\n",
        "    else:\n",
        "      print('It was not possible to add an element in page '+str(i)+\" becasue it's missing some values\")"
      ],
      "execution_count": 6,
      "outputs": [
        {
          "output_type": "stream",
          "text": [
            "It was not possible to add an element in page 3 becasue it's missing some values\n"
          ],
          "name": "stdout"
        }
      ]
    },
    {
      "cell_type": "markdown",
      "metadata": {
        "id": "8AyOqq2ZqJYo"
      },
      "source": [
        "## Final data gathered:"
      ]
    },
    {
      "cell_type": "code",
      "metadata": {
        "colab": {
          "base_uri": "https://localhost:8080/",
          "height": 419
        },
        "id": "I6-MXV4cVW2H",
        "outputId": "ed7e78ec-8a89-44dc-e236-0c87958e54bb"
      },
      "source": [
        "dictionary = {'Main Address': mainAddressArray, \n",
        "              'Second Address': secondAddressArray, \n",
        "              'Postal Code': postalCodeArray, \n",
        "              'Rent':rentArray, \n",
        "              'Bedrooms': bedsArray, \n",
        "              'Bathrooms': bathsArray,\n",
        "              'Parking spaces': parkingArray,\n",
        "              'Building Type': buildingTypeArray}\n",
        "df = pd.DataFrame(dictionary)\n",
        "df"
      ],
      "execution_count": 7,
      "outputs": [
        {
          "output_type": "execute_result",
          "data": {
            "text/html": [
              "<div>\n",
              "<style scoped>\n",
              "    .dataframe tbody tr th:only-of-type {\n",
              "        vertical-align: middle;\n",
              "    }\n",
              "\n",
              "    .dataframe tbody tr th {\n",
              "        vertical-align: top;\n",
              "    }\n",
              "\n",
              "    .dataframe thead th {\n",
              "        text-align: right;\n",
              "    }\n",
              "</style>\n",
              "<table border=\"1\" class=\"dataframe\">\n",
              "  <thead>\n",
              "    <tr style=\"text-align: right;\">\n",
              "      <th></th>\n",
              "      <th>Main Address</th>\n",
              "      <th>Second Address</th>\n",
              "      <th>Postal Code</th>\n",
              "      <th>Rent</th>\n",
              "      <th>Bedrooms</th>\n",
              "      <th>Bathrooms</th>\n",
              "      <th>Parking spaces</th>\n",
              "      <th>Building Type</th>\n",
              "    </tr>\n",
              "  </thead>\n",
              "  <tbody>\n",
              "    <tr>\n",
              "      <th>0</th>\n",
              "      <td>6 Cambridge Circuit,</td>\n",
              "      <td>PIMPAMA</td>\n",
              "      <td>4209</td>\n",
              "      <td>$490 Weekly</td>\n",
              "      <td>4 .css-9fxapx{position:absolute;width:1px;heig...</td>\n",
              "      <td>2 Baths</td>\n",
              "      <td>2 Parking</td>\n",
              "      <td>House</td>\n",
              "    </tr>\n",
              "    <tr>\n",
              "      <th>1</th>\n",
              "      <td>16 Lanai Drive,</td>\n",
              "      <td>BURLEIGH WATERS</td>\n",
              "      <td>4220</td>\n",
              "      <td>$1,150 per week</td>\n",
              "      <td>5 Beds</td>\n",
              "      <td>2 Baths</td>\n",
              "      <td>2 Parking</td>\n",
              "      <td>House</td>\n",
              "    </tr>\n",
              "    <tr>\n",
              "      <th>2</th>\n",
              "      <td>2/22 Britannia Avenue,</td>\n",
              "      <td>BROADBEACH</td>\n",
              "      <td>4218</td>\n",
              "      <td>$700 per week</td>\n",
              "      <td>2 Beds</td>\n",
              "      <td>2 Baths</td>\n",
              "      <td>1 Parking</td>\n",
              "      <td>Apartment / Unit / Flat</td>\n",
              "    </tr>\n",
              "    <tr>\n",
              "      <th>3</th>\n",
              "      <td>12 Kosciuszko Circuit,</td>\n",
              "      <td>PIMPAMA</td>\n",
              "      <td>4209</td>\n",
              "      <td>$650</td>\n",
              "      <td>5 Beds</td>\n",
              "      <td>2 Baths</td>\n",
              "      <td>2 Parking</td>\n",
              "      <td>House</td>\n",
              "    </tr>\n",
              "    <tr>\n",
              "      <th>4</th>\n",
              "      <td>9 Purlingbrook Street,</td>\n",
              "      <td>UPPER COOMERA</td>\n",
              "      <td>4209</td>\n",
              "      <td>$470</td>\n",
              "      <td>3 Beds</td>\n",
              "      <td>1 Bath</td>\n",
              "      <td>2 Parking</td>\n",
              "      <td>House</td>\n",
              "    </tr>\n",
              "    <tr>\n",
              "      <th>...</th>\n",
              "      <td>...</td>\n",
              "      <td>...</td>\n",
              "      <td>...</td>\n",
              "      <td>...</td>\n",
              "      <td>...</td>\n",
              "      <td>...</td>\n",
              "      <td>...</td>\n",
              "      <td>...</td>\n",
              "    </tr>\n",
              "    <tr>\n",
              "      <th>92</th>\n",
              "      <td>53 Amalfi Drive,</td>\n",
              "      <td>ISLE OF CAPRI</td>\n",
              "      <td>4217</td>\n",
              "      <td>$1350 per week</td>\n",
              "      <td>5 Beds</td>\n",
              "      <td>3 Baths</td>\n",
              "      <td>2 Parking</td>\n",
              "      <td>House</td>\n",
              "    </tr>\n",
              "    <tr>\n",
              "      <th>93</th>\n",
              "      <td>20 Brakes Crescent,</td>\n",
              "      <td>MIAMI</td>\n",
              "      <td>4220</td>\n",
              "      <td>$2,600 per week</td>\n",
              "      <td>5 Beds</td>\n",
              "      <td>3 Baths</td>\n",
              "      <td>2 Parking</td>\n",
              "      <td>House</td>\n",
              "    </tr>\n",
              "    <tr>\n",
              "      <th>94</th>\n",
              "      <td>19 Norfolk Avenue,</td>\n",
              "      <td>SURFERS PARADISE</td>\n",
              "      <td>4217</td>\n",
              "      <td>$600 per week</td>\n",
              "      <td>3 Beds</td>\n",
              "      <td>2 Baths</td>\n",
              "      <td>2 Parking</td>\n",
              "      <td>House</td>\n",
              "    </tr>\n",
              "    <tr>\n",
              "      <th>95</th>\n",
              "      <td>18/6 Tonga Place,</td>\n",
              "      <td>PARKWOOD</td>\n",
              "      <td>4214</td>\n",
              "      <td>$475</td>\n",
              "      <td>1 Bed</td>\n",
              "      <td>1 Bath</td>\n",
              "      <td>1 Parking</td>\n",
              "      <td>House</td>\n",
              "    </tr>\n",
              "    <tr>\n",
              "      <th>96</th>\n",
              "      <td>6 AQUA,</td>\n",
              "      <td>SOUTHPORT</td>\n",
              "      <td>4215</td>\n",
              "      <td>$560</td>\n",
              "      <td>2 Beds</td>\n",
              "      <td>2 Baths</td>\n",
              "      <td>1 Parking</td>\n",
              "      <td>Apartment / Unit / Flat</td>\n",
              "    </tr>\n",
              "  </tbody>\n",
              "</table>\n",
              "<p>97 rows × 8 columns</p>\n",
              "</div>"
            ],
            "text/plain": [
              "               Main Address  ...            Building Type\n",
              "0     6 Cambridge Circuit,   ...                    House\n",
              "1          16 Lanai Drive,   ...                    House\n",
              "2   2/22 Britannia Avenue,   ...  Apartment / Unit / Flat\n",
              "3   12 Kosciuszko Circuit,   ...                    House\n",
              "4   9 Purlingbrook Street,   ...                    House\n",
              "..                      ...  ...                      ...\n",
              "92        53 Amalfi Drive,   ...                    House\n",
              "93     20 Brakes Crescent,   ...                    House\n",
              "94      19 Norfolk Avenue,   ...                    House\n",
              "95       18/6 Tonga Place,   ...                    House\n",
              "96                 6 AQUA,   ...  Apartment / Unit / Flat\n",
              "\n",
              "[97 rows x 8 columns]"
            ]
          },
          "metadata": {
            "tags": []
          },
          "execution_count": 7
        }
      ]
    },
    {
      "cell_type": "markdown",
      "metadata": {
        "id": "h_rvTAYHTFZF"
      },
      "source": [
        "# 2. Data Cleaning"
      ]
    },
    {
      "cell_type": "code",
      "metadata": {
        "id": "3Jg6qWfeUVrH"
      },
      "source": [
        "dfCopy = df.copy()"
      ],
      "execution_count": 37,
      "outputs": []
    },
    {
      "cell_type": "code",
      "metadata": {
        "id": "o6kn2k1scvZY"
      },
      "source": [
        "#Function that transform the columns[Bedrooms, Bathrooms and Parking Spaces] to integers\n",
        "#columnName : Name of the column to transform into an integer.\n",
        "def toInteger (columnName):\n",
        "  for ind in dfCopy[columnName].index:\n",
        "    value = dfCopy[columnName][ind][0]\n",
        "    if (value == '−'):\n",
        "      value = 0\n",
        "    else:\n",
        "      value = int(value)\n",
        "    dfCopy[columnName][ind] = value"
      ],
      "execution_count": 38,
      "outputs": []
    },
    {
      "cell_type": "code",
      "metadata": {
        "colab": {
          "base_uri": "https://localhost:8080/",
          "height": 419
        },
        "id": "8r9ti5eLd_zM",
        "outputId": "ec335858-da71-462e-e235-6d0a7f3506cf"
      },
      "source": [
        "toInteger('Bathrooms')\n",
        "toInteger('Bedrooms')\n",
        "toInteger('Parking spaces')\n",
        "dfCopy"
      ],
      "execution_count": 39,
      "outputs": [
        {
          "output_type": "execute_result",
          "data": {
            "text/html": [
              "<div>\n",
              "<style scoped>\n",
              "    .dataframe tbody tr th:only-of-type {\n",
              "        vertical-align: middle;\n",
              "    }\n",
              "\n",
              "    .dataframe tbody tr th {\n",
              "        vertical-align: top;\n",
              "    }\n",
              "\n",
              "    .dataframe thead th {\n",
              "        text-align: right;\n",
              "    }\n",
              "</style>\n",
              "<table border=\"1\" class=\"dataframe\">\n",
              "  <thead>\n",
              "    <tr style=\"text-align: right;\">\n",
              "      <th></th>\n",
              "      <th>Main Address</th>\n",
              "      <th>Second Address</th>\n",
              "      <th>Postal Code</th>\n",
              "      <th>Rent</th>\n",
              "      <th>Bedrooms</th>\n",
              "      <th>Bathrooms</th>\n",
              "      <th>Parking spaces</th>\n",
              "      <th>Building Type</th>\n",
              "    </tr>\n",
              "  </thead>\n",
              "  <tbody>\n",
              "    <tr>\n",
              "      <th>0</th>\n",
              "      <td>6 Cambridge Circuit,</td>\n",
              "      <td>PIMPAMA</td>\n",
              "      <td>4209</td>\n",
              "      <td>$490 Weekly</td>\n",
              "      <td>4</td>\n",
              "      <td>2</td>\n",
              "      <td>2</td>\n",
              "      <td>House</td>\n",
              "    </tr>\n",
              "    <tr>\n",
              "      <th>1</th>\n",
              "      <td>16 Lanai Drive,</td>\n",
              "      <td>BURLEIGH WATERS</td>\n",
              "      <td>4220</td>\n",
              "      <td>$1,150 per week</td>\n",
              "      <td>5</td>\n",
              "      <td>2</td>\n",
              "      <td>2</td>\n",
              "      <td>House</td>\n",
              "    </tr>\n",
              "    <tr>\n",
              "      <th>2</th>\n",
              "      <td>2/22 Britannia Avenue,</td>\n",
              "      <td>BROADBEACH</td>\n",
              "      <td>4218</td>\n",
              "      <td>$700 per week</td>\n",
              "      <td>2</td>\n",
              "      <td>2</td>\n",
              "      <td>1</td>\n",
              "      <td>Apartment / Unit / Flat</td>\n",
              "    </tr>\n",
              "    <tr>\n",
              "      <th>3</th>\n",
              "      <td>12 Kosciuszko Circuit,</td>\n",
              "      <td>PIMPAMA</td>\n",
              "      <td>4209</td>\n",
              "      <td>$650</td>\n",
              "      <td>5</td>\n",
              "      <td>2</td>\n",
              "      <td>2</td>\n",
              "      <td>House</td>\n",
              "    </tr>\n",
              "    <tr>\n",
              "      <th>4</th>\n",
              "      <td>9 Purlingbrook Street,</td>\n",
              "      <td>UPPER COOMERA</td>\n",
              "      <td>4209</td>\n",
              "      <td>$470</td>\n",
              "      <td>3</td>\n",
              "      <td>1</td>\n",
              "      <td>2</td>\n",
              "      <td>House</td>\n",
              "    </tr>\n",
              "    <tr>\n",
              "      <th>...</th>\n",
              "      <td>...</td>\n",
              "      <td>...</td>\n",
              "      <td>...</td>\n",
              "      <td>...</td>\n",
              "      <td>...</td>\n",
              "      <td>...</td>\n",
              "      <td>...</td>\n",
              "      <td>...</td>\n",
              "    </tr>\n",
              "    <tr>\n",
              "      <th>92</th>\n",
              "      <td>53 Amalfi Drive,</td>\n",
              "      <td>ISLE OF CAPRI</td>\n",
              "      <td>4217</td>\n",
              "      <td>$1350 per week</td>\n",
              "      <td>5</td>\n",
              "      <td>3</td>\n",
              "      <td>2</td>\n",
              "      <td>House</td>\n",
              "    </tr>\n",
              "    <tr>\n",
              "      <th>93</th>\n",
              "      <td>20 Brakes Crescent,</td>\n",
              "      <td>MIAMI</td>\n",
              "      <td>4220</td>\n",
              "      <td>$2,600 per week</td>\n",
              "      <td>5</td>\n",
              "      <td>3</td>\n",
              "      <td>2</td>\n",
              "      <td>House</td>\n",
              "    </tr>\n",
              "    <tr>\n",
              "      <th>94</th>\n",
              "      <td>19 Norfolk Avenue,</td>\n",
              "      <td>SURFERS PARADISE</td>\n",
              "      <td>4217</td>\n",
              "      <td>$600 per week</td>\n",
              "      <td>3</td>\n",
              "      <td>2</td>\n",
              "      <td>2</td>\n",
              "      <td>House</td>\n",
              "    </tr>\n",
              "    <tr>\n",
              "      <th>95</th>\n",
              "      <td>18/6 Tonga Place,</td>\n",
              "      <td>PARKWOOD</td>\n",
              "      <td>4214</td>\n",
              "      <td>$475</td>\n",
              "      <td>1</td>\n",
              "      <td>1</td>\n",
              "      <td>1</td>\n",
              "      <td>House</td>\n",
              "    </tr>\n",
              "    <tr>\n",
              "      <th>96</th>\n",
              "      <td>6 AQUA,</td>\n",
              "      <td>SOUTHPORT</td>\n",
              "      <td>4215</td>\n",
              "      <td>$560</td>\n",
              "      <td>2</td>\n",
              "      <td>2</td>\n",
              "      <td>1</td>\n",
              "      <td>Apartment / Unit / Flat</td>\n",
              "    </tr>\n",
              "  </tbody>\n",
              "</table>\n",
              "<p>97 rows × 8 columns</p>\n",
              "</div>"
            ],
            "text/plain": [
              "               Main Address  ...            Building Type\n",
              "0     6 Cambridge Circuit,   ...                    House\n",
              "1          16 Lanai Drive,   ...                    House\n",
              "2   2/22 Britannia Avenue,   ...  Apartment / Unit / Flat\n",
              "3   12 Kosciuszko Circuit,   ...                    House\n",
              "4   9 Purlingbrook Street,   ...                    House\n",
              "..                      ...  ...                      ...\n",
              "92        53 Amalfi Drive,   ...                    House\n",
              "93     20 Brakes Crescent,   ...                    House\n",
              "94      19 Norfolk Avenue,   ...                    House\n",
              "95       18/6 Tonga Place,   ...                    House\n",
              "96                 6 AQUA,   ...  Apartment / Unit / Flat\n",
              "\n",
              "[97 rows x 8 columns]"
            ]
          },
          "metadata": {
            "tags": []
          },
          "execution_count": 39
        }
      ]
    },
    {
      "cell_type": "markdown",
      "metadata": {
        "id": "zFXbdlqbqVp9"
      },
      "source": [
        "## Transform the rent into a float:"
      ]
    },
    {
      "cell_type": "code",
      "metadata": {
        "id": "wfGdJrvcZuz9"
      },
      "source": [
        "\n",
        "rentIntArray = []\n",
        "for ind in dfCopy['Rent'].index:\n",
        "  #Extract the numbers from the string\n",
        "  lista = re.findall(r'\\d+', dfCopy['Rent'][ind])\n",
        "  finalRent = ''.join(lista)\n",
        "  #Eliminate the row if the number is ''\n",
        "  if (finalRent == ''):\n",
        "    dfCopy.drop([ind], inplace=True)\n",
        "    print ('This is the problem index: '+str(ind)+', so it was eliminated' )\n",
        "  #Otherwise, it add the number to a list\n",
        "  else:\n",
        "    dfCopy['Rent'][ind] = float(finalRent)\n",
        "    rentIntArray.append(float(finalRent))"
      ],
      "execution_count": 40,
      "outputs": []
    },
    {
      "cell_type": "code",
      "metadata": {
        "colab": {
          "base_uri": "https://localhost:8080/",
          "height": 204
        },
        "id": "KIIlbeecR4eW",
        "outputId": "4b47bce7-7c58-4f7f-afa4-cedf7b8e87ad"
      },
      "source": [
        "dfCopy.head()"
      ],
      "execution_count": 41,
      "outputs": [
        {
          "output_type": "execute_result",
          "data": {
            "text/html": [
              "<div>\n",
              "<style scoped>\n",
              "    .dataframe tbody tr th:only-of-type {\n",
              "        vertical-align: middle;\n",
              "    }\n",
              "\n",
              "    .dataframe tbody tr th {\n",
              "        vertical-align: top;\n",
              "    }\n",
              "\n",
              "    .dataframe thead th {\n",
              "        text-align: right;\n",
              "    }\n",
              "</style>\n",
              "<table border=\"1\" class=\"dataframe\">\n",
              "  <thead>\n",
              "    <tr style=\"text-align: right;\">\n",
              "      <th></th>\n",
              "      <th>Main Address</th>\n",
              "      <th>Second Address</th>\n",
              "      <th>Postal Code</th>\n",
              "      <th>Rent</th>\n",
              "      <th>Bedrooms</th>\n",
              "      <th>Bathrooms</th>\n",
              "      <th>Parking spaces</th>\n",
              "      <th>Building Type</th>\n",
              "    </tr>\n",
              "  </thead>\n",
              "  <tbody>\n",
              "    <tr>\n",
              "      <th>0</th>\n",
              "      <td>6 Cambridge Circuit,</td>\n",
              "      <td>PIMPAMA</td>\n",
              "      <td>4209</td>\n",
              "      <td>490</td>\n",
              "      <td>4</td>\n",
              "      <td>2</td>\n",
              "      <td>2</td>\n",
              "      <td>House</td>\n",
              "    </tr>\n",
              "    <tr>\n",
              "      <th>1</th>\n",
              "      <td>16 Lanai Drive,</td>\n",
              "      <td>BURLEIGH WATERS</td>\n",
              "      <td>4220</td>\n",
              "      <td>1150</td>\n",
              "      <td>5</td>\n",
              "      <td>2</td>\n",
              "      <td>2</td>\n",
              "      <td>House</td>\n",
              "    </tr>\n",
              "    <tr>\n",
              "      <th>2</th>\n",
              "      <td>2/22 Britannia Avenue,</td>\n",
              "      <td>BROADBEACH</td>\n",
              "      <td>4218</td>\n",
              "      <td>700</td>\n",
              "      <td>2</td>\n",
              "      <td>2</td>\n",
              "      <td>1</td>\n",
              "      <td>Apartment / Unit / Flat</td>\n",
              "    </tr>\n",
              "    <tr>\n",
              "      <th>3</th>\n",
              "      <td>12 Kosciuszko Circuit,</td>\n",
              "      <td>PIMPAMA</td>\n",
              "      <td>4209</td>\n",
              "      <td>650</td>\n",
              "      <td>5</td>\n",
              "      <td>2</td>\n",
              "      <td>2</td>\n",
              "      <td>House</td>\n",
              "    </tr>\n",
              "    <tr>\n",
              "      <th>4</th>\n",
              "      <td>9 Purlingbrook Street,</td>\n",
              "      <td>UPPER COOMERA</td>\n",
              "      <td>4209</td>\n",
              "      <td>470</td>\n",
              "      <td>3</td>\n",
              "      <td>1</td>\n",
              "      <td>2</td>\n",
              "      <td>House</td>\n",
              "    </tr>\n",
              "  </tbody>\n",
              "</table>\n",
              "</div>"
            ],
            "text/plain": [
              "              Main Address  ...            Building Type\n",
              "0    6 Cambridge Circuit,   ...                    House\n",
              "1         16 Lanai Drive,   ...                    House\n",
              "2  2/22 Britannia Avenue,   ...  Apartment / Unit / Flat\n",
              "3  12 Kosciuszko Circuit,   ...                    House\n",
              "4  9 Purlingbrook Street,   ...                    House\n",
              "\n",
              "[5 rows x 8 columns]"
            ]
          },
          "metadata": {
            "tags": []
          },
          "execution_count": 41
        }
      ]
    },
    {
      "cell_type": "markdown",
      "metadata": {
        "id": "fGYz9f7KLw_g"
      },
      "source": [
        "## Get the latitude and Longitude"
      ]
    },
    {
      "cell_type": "code",
      "metadata": {
        "id": "3YnHSb7GL1a1"
      },
      "source": [
        "from geopy.geocoders import Nominatim\n",
        "geolocator = Nominatim(user_agent=\"my_user_agent\")\n"
      ],
      "execution_count": 42,
      "outputs": []
    },
    {
      "cell_type": "code",
      "metadata": {
        "colab": {
          "base_uri": "https://localhost:8080/"
        },
        "id": "p-nY7j1SMrG2",
        "outputId": "62911b55-d534-4380-e646-c33e84d04dc0"
      },
      "source": [
        "housesNotFound = []\n",
        "for index, row in dfCopy.iterrows():\n",
        "  if '/' in row['Main Address']:\n",
        "    location =  geolocator.geocode(row['Main Address'].split('/',1)[1]+' '+row['Second Address'] + ', QLD, Australia') \n",
        "  else:\n",
        "    location = geolocator.geocode(row['Main Address']+' '+row['Second Address']  + ', QLD, Australia') \n",
        "  if location == None:\n",
        "    housesNotFound.append( row['Main Address']+row['Second Address'])\n",
        "    dfCopy.drop([index], inplace=True)\n",
        "  else:\n",
        "    dfCopy.at[index,'Latitude'] = location.latitude\n",
        "    dfCopy.at[index,'Longitude'] = location.longitude\n",
        "\n",
        "\n",
        "print('These houses were not found:'+ str(housesNotFound))"
      ],
      "execution_count": 47,
      "outputs": [
        {
          "output_type": "stream",
          "text": [
            "These houses were not found:[]\n"
          ],
          "name": "stdout"
        }
      ]
    },
    {
      "cell_type": "code",
      "metadata": {
        "colab": {
          "base_uri": "https://localhost:8080/"
        },
        "id": "VJ9O8qvaNhJO",
        "outputId": "87830f1e-d2b7-450d-8a8c-21741066cb83"
      },
      "source": [
        "housesNotFound"
      ],
      "execution_count": 48,
      "outputs": [
        {
          "output_type": "execute_result",
          "data": {
            "text/plain": [
              "[]"
            ]
          },
          "metadata": {
            "tags": []
          },
          "execution_count": 48
        }
      ]
    },
    {
      "cell_type": "code",
      "metadata": {
        "colab": {
          "base_uri": "https://localhost:8080/",
          "height": 419
        },
        "id": "G0baN8JCORSO",
        "outputId": "2e2ecfd5-83e1-49f1-8206-fc86b87f1ea2"
      },
      "source": [
        "dfCopy"
      ],
      "execution_count": 49,
      "outputs": [
        {
          "output_type": "execute_result",
          "data": {
            "text/html": [
              "<div>\n",
              "<style scoped>\n",
              "    .dataframe tbody tr th:only-of-type {\n",
              "        vertical-align: middle;\n",
              "    }\n",
              "\n",
              "    .dataframe tbody tr th {\n",
              "        vertical-align: top;\n",
              "    }\n",
              "\n",
              "    .dataframe thead th {\n",
              "        text-align: right;\n",
              "    }\n",
              "</style>\n",
              "<table border=\"1\" class=\"dataframe\">\n",
              "  <thead>\n",
              "    <tr style=\"text-align: right;\">\n",
              "      <th></th>\n",
              "      <th>Main Address</th>\n",
              "      <th>Second Address</th>\n",
              "      <th>Postal Code</th>\n",
              "      <th>Rent</th>\n",
              "      <th>Bedrooms</th>\n",
              "      <th>Bathrooms</th>\n",
              "      <th>Parking spaces</th>\n",
              "      <th>Building Type</th>\n",
              "      <th>Latitude</th>\n",
              "      <th>Longitude</th>\n",
              "    </tr>\n",
              "  </thead>\n",
              "  <tbody>\n",
              "    <tr>\n",
              "      <th>0</th>\n",
              "      <td>6 Cambridge Circuit,</td>\n",
              "      <td>PIMPAMA</td>\n",
              "      <td>4209</td>\n",
              "      <td>490</td>\n",
              "      <td>4</td>\n",
              "      <td>2</td>\n",
              "      <td>2</td>\n",
              "      <td>House</td>\n",
              "      <td>-27.835562</td>\n",
              "      <td>153.315019</td>\n",
              "    </tr>\n",
              "    <tr>\n",
              "      <th>1</th>\n",
              "      <td>16 Lanai Drive,</td>\n",
              "      <td>BURLEIGH WATERS</td>\n",
              "      <td>4220</td>\n",
              "      <td>1150</td>\n",
              "      <td>5</td>\n",
              "      <td>2</td>\n",
              "      <td>2</td>\n",
              "      <td>House</td>\n",
              "      <td>-28.095786</td>\n",
              "      <td>153.434559</td>\n",
              "    </tr>\n",
              "    <tr>\n",
              "      <th>2</th>\n",
              "      <td>2/22 Britannia Avenue,</td>\n",
              "      <td>BROADBEACH</td>\n",
              "      <td>4218</td>\n",
              "      <td>700</td>\n",
              "      <td>2</td>\n",
              "      <td>2</td>\n",
              "      <td>1</td>\n",
              "      <td>Apartment / Unit / Flat</td>\n",
              "      <td>-28.023812</td>\n",
              "      <td>153.430991</td>\n",
              "    </tr>\n",
              "    <tr>\n",
              "      <th>3</th>\n",
              "      <td>12 Kosciuszko Circuit,</td>\n",
              "      <td>PIMPAMA</td>\n",
              "      <td>4209</td>\n",
              "      <td>650</td>\n",
              "      <td>5</td>\n",
              "      <td>2</td>\n",
              "      <td>2</td>\n",
              "      <td>House</td>\n",
              "      <td>-27.816138</td>\n",
              "      <td>153.299638</td>\n",
              "    </tr>\n",
              "    <tr>\n",
              "      <th>4</th>\n",
              "      <td>9 Purlingbrook Street,</td>\n",
              "      <td>UPPER COOMERA</td>\n",
              "      <td>4209</td>\n",
              "      <td>470</td>\n",
              "      <td>3</td>\n",
              "      <td>1</td>\n",
              "      <td>2</td>\n",
              "      <td>House</td>\n",
              "      <td>-27.864833</td>\n",
              "      <td>153.287389</td>\n",
              "    </tr>\n",
              "    <tr>\n",
              "      <th>...</th>\n",
              "      <td>...</td>\n",
              "      <td>...</td>\n",
              "      <td>...</td>\n",
              "      <td>...</td>\n",
              "      <td>...</td>\n",
              "      <td>...</td>\n",
              "      <td>...</td>\n",
              "      <td>...</td>\n",
              "      <td>...</td>\n",
              "      <td>...</td>\n",
              "    </tr>\n",
              "    <tr>\n",
              "      <th>91</th>\n",
              "      <td>65 River Crescent,</td>\n",
              "      <td>BROADBEACH WATERS</td>\n",
              "      <td>4218</td>\n",
              "      <td>1600</td>\n",
              "      <td>4</td>\n",
              "      <td>2</td>\n",
              "      <td>3</td>\n",
              "      <td>House</td>\n",
              "      <td>-28.026044</td>\n",
              "      <td>153.398184</td>\n",
              "    </tr>\n",
              "    <tr>\n",
              "      <th>93</th>\n",
              "      <td>20 Brakes Crescent,</td>\n",
              "      <td>MIAMI</td>\n",
              "      <td>4220</td>\n",
              "      <td>2600</td>\n",
              "      <td>5</td>\n",
              "      <td>3</td>\n",
              "      <td>2</td>\n",
              "      <td>House</td>\n",
              "      <td>-28.071295</td>\n",
              "      <td>153.444774</td>\n",
              "    </tr>\n",
              "    <tr>\n",
              "      <th>94</th>\n",
              "      <td>19 Norfolk Avenue,</td>\n",
              "      <td>SURFERS PARADISE</td>\n",
              "      <td>4217</td>\n",
              "      <td>600</td>\n",
              "      <td>3</td>\n",
              "      <td>2</td>\n",
              "      <td>2</td>\n",
              "      <td>House</td>\n",
              "      <td>-27.994045</td>\n",
              "      <td>153.426043</td>\n",
              "    </tr>\n",
              "    <tr>\n",
              "      <th>95</th>\n",
              "      <td>18/6 Tonga Place,</td>\n",
              "      <td>PARKWOOD</td>\n",
              "      <td>4214</td>\n",
              "      <td>475</td>\n",
              "      <td>1</td>\n",
              "      <td>1</td>\n",
              "      <td>1</td>\n",
              "      <td>House</td>\n",
              "      <td>-27.956883</td>\n",
              "      <td>153.380885</td>\n",
              "    </tr>\n",
              "    <tr>\n",
              "      <th>96</th>\n",
              "      <td>6 AQUA,</td>\n",
              "      <td>SOUTHPORT</td>\n",
              "      <td>4215</td>\n",
              "      <td>560</td>\n",
              "      <td>2</td>\n",
              "      <td>2</td>\n",
              "      <td>1</td>\n",
              "      <td>Apartment / Unit / Flat</td>\n",
              "      <td>-27.976104</td>\n",
              "      <td>153.417911</td>\n",
              "    </tr>\n",
              "  </tbody>\n",
              "</table>\n",
              "<p>89 rows × 10 columns</p>\n",
              "</div>"
            ],
            "text/plain": [
              "               Main Address     Second Address  ...   Latitude   Longitude\n",
              "0     6 Cambridge Circuit,             PIMPAMA  ... -27.835562  153.315019\n",
              "1          16 Lanai Drive,     BURLEIGH WATERS  ... -28.095786  153.434559\n",
              "2   2/22 Britannia Avenue,          BROADBEACH  ... -28.023812  153.430991\n",
              "3   12 Kosciuszko Circuit,             PIMPAMA  ... -27.816138  153.299638\n",
              "4   9 Purlingbrook Street,       UPPER COOMERA  ... -27.864833  153.287389\n",
              "..                      ...                ...  ...        ...         ...\n",
              "91      65 River Crescent,   BROADBEACH WATERS  ... -28.026044  153.398184\n",
              "93     20 Brakes Crescent,               MIAMI  ... -28.071295  153.444774\n",
              "94      19 Norfolk Avenue,    SURFERS PARADISE  ... -27.994045  153.426043\n",
              "95       18/6 Tonga Place,            PARKWOOD  ... -27.956883  153.380885\n",
              "96                 6 AQUA,           SOUTHPORT  ... -27.976104  153.417911\n",
              "\n",
              "[89 rows x 10 columns]"
            ]
          },
          "metadata": {
            "tags": []
          },
          "execution_count": 49
        }
      ]
    },
    {
      "cell_type": "markdown",
      "metadata": {
        "id": "FCvzSGi8jMqt"
      },
      "source": [
        "### 3. Data Analysis"
      ]
    },
    {
      "cell_type": "code",
      "metadata": {
        "colab": {
          "base_uri": "https://localhost:8080/"
        },
        "id": "WYXxVv-dV3Bd",
        "outputId": "7704b5cc-6d96-448f-e518-7e00647dd110"
      },
      "source": [
        "! pip install folium"
      ],
      "execution_count": null,
      "outputs": [
        {
          "output_type": "stream",
          "text": [
            "Requirement already satisfied: folium in /usr/local/lib/python3.7/dist-packages (0.8.3)\n",
            "Requirement already satisfied: six in /usr/local/lib/python3.7/dist-packages (from folium) (1.15.0)\n",
            "Requirement already satisfied: requests in /usr/local/lib/python3.7/dist-packages (from folium) (2.23.0)\n",
            "Requirement already satisfied: branca>=0.3.0 in /usr/local/lib/python3.7/dist-packages (from folium) (0.4.2)\n",
            "Requirement already satisfied: numpy in /usr/local/lib/python3.7/dist-packages (from folium) (1.19.5)\n",
            "Requirement already satisfied: jinja2 in /usr/local/lib/python3.7/dist-packages (from folium) (2.11.3)\n",
            "Requirement already satisfied: chardet<4,>=3.0.2 in /usr/local/lib/python3.7/dist-packages (from requests->folium) (3.0.4)\n",
            "Requirement already satisfied: certifi>=2017.4.17 in /usr/local/lib/python3.7/dist-packages (from requests->folium) (2020.12.5)\n",
            "Requirement already satisfied: urllib3!=1.25.0,!=1.25.1,<1.26,>=1.21.1 in /usr/local/lib/python3.7/dist-packages (from requests->folium) (1.24.3)\n",
            "Requirement already satisfied: idna<3,>=2.5 in /usr/local/lib/python3.7/dist-packages (from requests->folium) (2.10)\n",
            "Requirement already satisfied: MarkupSafe>=0.23 in /usr/local/lib/python3.7/dist-packages (from jinja2->folium) (1.1.1)\n"
          ],
          "name": "stdout"
        }
      ]
    },
    {
      "cell_type": "code",
      "metadata": {
        "id": "SSJhnLfVWbXF"
      },
      "source": [
        "import folium"
      ],
      "execution_count": null,
      "outputs": []
    },
    {
      "cell_type": "code",
      "metadata": {
        "id": "36kCB-95tT6Y"
      },
      "source": [
        "goldCoastMap = folium.Map(location = [-28.0167, 153.4000],  \n",
        "                          zoom_start = 10,\n",
        "                          tiles=\"CartoDB positron\")"
      ],
      "execution_count": null,
      "outputs": []
    },
    {
      "cell_type": "code",
      "metadata": {
        "colab": {
          "base_uri": "https://localhost:8080/",
          "height": 1000
        },
        "id": "l3lj6xEkV-d_",
        "outputId": "6a2848df-7358-4f5f-fbae-7523657966a2"
      },
      "source": [
        "goldCoastMap"
      ],
      "execution_count": null,
      "outputs": [
        {
          "output_type": "execute_result",
          "data": {
            "text/html": [
              "<div style=\"width:100%;\"><div style=\"position:relative;width:100%;height:0;padding-bottom:60%;\"><span style=\"color:#565656\">Make this Notebook Trusted to load map: File -> Trust Notebook</span><iframe src=\"about:blank\" style=\"position:absolute;width:100%;height:100%;left:0;top:0;border:none !important;\" data-html=%3C%21DOCTYPE%20html%3E%0A%3Chead%3E%20%20%20%20%0A%20%20%20%20%3Cmeta%20http-equiv%3D%22content-type%22%20content%3D%22text/html%3B%20charset%3DUTF-8%22%20/%3E%0A%20%20%20%20%3Cscript%3EL_PREFER_CANVAS%3Dfalse%3B%20L_NO_TOUCH%3Dfalse%3B%20L_DISABLE_3D%3Dfalse%3B%3C/script%3E%0A%20%20%20%20%3Cscript%20src%3D%22https%3A//cdn.jsdelivr.net/npm/leaflet%401.4.0/dist/leaflet.js%22%3E%3C/script%3E%0A%20%20%20%20%3Cscript%20src%3D%22https%3A//code.jquery.com/jquery-1.12.4.min.js%22%3E%3C/script%3E%0A%20%20%20%20%3Cscript%20src%3D%22https%3A//maxcdn.bootstrapcdn.com/bootstrap/3.2.0/js/bootstrap.min.js%22%3E%3C/script%3E%0A%20%20%20%20%3Cscript%20src%3D%22https%3A//cdnjs.cloudflare.com/ajax/libs/Leaflet.awesome-markers/2.0.2/leaflet.awesome-markers.js%22%3E%3C/script%3E%0A%20%20%20%20%3Clink%20rel%3D%22stylesheet%22%20href%3D%22https%3A//cdn.jsdelivr.net/npm/leaflet%401.4.0/dist/leaflet.css%22/%3E%0A%20%20%20%20%3Clink%20rel%3D%22stylesheet%22%20href%3D%22https%3A//maxcdn.bootstrapcdn.com/bootstrap/3.2.0/css/bootstrap.min.css%22/%3E%0A%20%20%20%20%3Clink%20rel%3D%22stylesheet%22%20href%3D%22https%3A//maxcdn.bootstrapcdn.com/bootstrap/3.2.0/css/bootstrap-theme.min.css%22/%3E%0A%20%20%20%20%3Clink%20rel%3D%22stylesheet%22%20href%3D%22https%3A//maxcdn.bootstrapcdn.com/font-awesome/4.6.3/css/font-awesome.min.css%22/%3E%0A%20%20%20%20%3Clink%20rel%3D%22stylesheet%22%20href%3D%22https%3A//cdnjs.cloudflare.com/ajax/libs/Leaflet.awesome-markers/2.0.2/leaflet.awesome-markers.css%22/%3E%0A%20%20%20%20%3Clink%20rel%3D%22stylesheet%22%20href%3D%22https%3A//rawcdn.githack.com/python-visualization/folium/master/folium/templates/leaflet.awesome.rotate.css%22/%3E%0A%20%20%20%20%3Cstyle%3Ehtml%2C%20body%20%7Bwidth%3A%20100%25%3Bheight%3A%20100%25%3Bmargin%3A%200%3Bpadding%3A%200%3B%7D%3C/style%3E%0A%20%20%20%20%3Cstyle%3E%23map%20%7Bposition%3Aabsolute%3Btop%3A0%3Bbottom%3A0%3Bright%3A0%3Bleft%3A0%3B%7D%3C/style%3E%0A%20%20%20%20%0A%20%20%20%20%3Cmeta%20name%3D%22viewport%22%20content%3D%22width%3Ddevice-width%2C%0A%20%20%20%20%20%20%20%20initial-scale%3D1.0%2C%20maximum-scale%3D1.0%2C%20user-scalable%3Dno%22%20/%3E%0A%20%20%20%20%3Cstyle%3E%23map_e322e85408a04d90a8f65109aca06a80%20%7B%0A%20%20%20%20%20%20%20%20position%3A%20relative%3B%0A%20%20%20%20%20%20%20%20width%3A%20100.0%25%3B%0A%20%20%20%20%20%20%20%20height%3A%20100.0%25%3B%0A%20%20%20%20%20%20%20%20left%3A%200.0%25%3B%0A%20%20%20%20%20%20%20%20top%3A%200.0%25%3B%0A%20%20%20%20%20%20%20%20%7D%0A%20%20%20%20%3C/style%3E%0A%3C/head%3E%0A%3Cbody%3E%20%20%20%20%0A%20%20%20%20%0A%20%20%20%20%3Cdiv%20class%3D%22folium-map%22%20id%3D%22map_e322e85408a04d90a8f65109aca06a80%22%20%3E%3C/div%3E%0A%3C/body%3E%0A%3Cscript%3E%20%20%20%20%0A%20%20%20%20%0A%20%20%20%20%0A%20%20%20%20%20%20%20%20var%20bounds%20%3D%20null%3B%0A%20%20%20%20%0A%0A%20%20%20%20var%20map_e322e85408a04d90a8f65109aca06a80%20%3D%20L.map%28%0A%20%20%20%20%20%20%20%20%27map_e322e85408a04d90a8f65109aca06a80%27%2C%20%7B%0A%20%20%20%20%20%20%20%20center%3A%20%5B-28.0167%2C%20153.4%5D%2C%0A%20%20%20%20%20%20%20%20zoom%3A%2010%2C%0A%20%20%20%20%20%20%20%20maxBounds%3A%20bounds%2C%0A%20%20%20%20%20%20%20%20layers%3A%20%5B%5D%2C%0A%20%20%20%20%20%20%20%20worldCopyJump%3A%20false%2C%0A%20%20%20%20%20%20%20%20crs%3A%20L.CRS.EPSG3857%2C%0A%20%20%20%20%20%20%20%20zoomControl%3A%20true%2C%0A%20%20%20%20%20%20%20%20%7D%29%3B%0A%0A%0A%20%20%20%20%0A%20%20%20%20var%20tile_layer_a7b0ff86293046eca109ac4174db1a22%20%3D%20L.tileLayer%28%0A%20%20%20%20%20%20%20%20%27https%3A//cartodb-basemaps-%7Bs%7D.global.ssl.fastly.net/light_all/%7Bz%7D/%7Bx%7D/%7By%7D.png%27%2C%0A%20%20%20%20%20%20%20%20%7B%0A%20%20%20%20%20%20%20%20%22attribution%22%3A%20null%2C%0A%20%20%20%20%20%20%20%20%22detectRetina%22%3A%20false%2C%0A%20%20%20%20%20%20%20%20%22maxNativeZoom%22%3A%2018%2C%0A%20%20%20%20%20%20%20%20%22maxZoom%22%3A%2018%2C%0A%20%20%20%20%20%20%20%20%22minZoom%22%3A%200%2C%0A%20%20%20%20%20%20%20%20%22noWrap%22%3A%20false%2C%0A%20%20%20%20%20%20%20%20%22opacity%22%3A%201%2C%0A%20%20%20%20%20%20%20%20%22subdomains%22%3A%20%22abc%22%2C%0A%20%20%20%20%20%20%20%20%22tms%22%3A%20false%0A%7D%29.addTo%28map_e322e85408a04d90a8f65109aca06a80%29%3B%0A%3C/script%3E onload=\"this.contentDocument.open();this.contentDocument.write(    decodeURIComponent(this.getAttribute('data-html')));this.contentDocument.close();\" allowfullscreen webkitallowfullscreen mozallowfullscreen></iframe></div></div>"
            ],
            "text/plain": [
              "<folium.folium.Map at 0x7f01ed20e890>"
            ]
          },
          "metadata": {
            "tags": []
          },
          "execution_count": 62
        }
      ]
    },
    {
      "cell_type": "code",
      "metadata": {
        "id": "fAaeJH8vWfgt",
        "colab": {
          "base_uri": "https://localhost:8080/",
          "height": 1000
        },
        "outputId": "1d788197-ebf0-4a99-e82d-e77cbb073f38"
      },
      "source": [
        "folium.Circle(\n",
        "    radius=100,\n",
        "    location=[45.5244, -122.6699],\n",
        "    popup=\"The Waterfront\",\n",
        "    color=\"crimson\",\n",
        "    fill=False,\n",
        ").add_to(goldCoastMap)\n",
        "goldCoastMap"
      ],
      "execution_count": null,
      "outputs": [
        {
          "output_type": "execute_result",
          "data": {
            "text/html": [
              "<div style=\"width:100%;\"><div style=\"position:relative;width:100%;height:0;padding-bottom:60%;\"><span style=\"color:#565656\">Make this Notebook Trusted to load map: File -> Trust Notebook</span><iframe src=\"about:blank\" style=\"position:absolute;width:100%;height:100%;left:0;top:0;border:none !important;\" data-html=%3C%21DOCTYPE%20html%3E%0A%3Chead%3E%20%20%20%20%0A%20%20%20%20%3Cmeta%20http-equiv%3D%22content-type%22%20content%3D%22text/html%3B%20charset%3DUTF-8%22%20/%3E%0A%20%20%20%20%3Cscript%3EL_PREFER_CANVAS%3Dfalse%3B%20L_NO_TOUCH%3Dfalse%3B%20L_DISABLE_3D%3Dfalse%3B%3C/script%3E%0A%20%20%20%20%3Cscript%20src%3D%22https%3A//cdn.jsdelivr.net/npm/leaflet%401.4.0/dist/leaflet.js%22%3E%3C/script%3E%0A%20%20%20%20%3Cscript%20src%3D%22https%3A//code.jquery.com/jquery-1.12.4.min.js%22%3E%3C/script%3E%0A%20%20%20%20%3Cscript%20src%3D%22https%3A//maxcdn.bootstrapcdn.com/bootstrap/3.2.0/js/bootstrap.min.js%22%3E%3C/script%3E%0A%20%20%20%20%3Cscript%20src%3D%22https%3A//cdnjs.cloudflare.com/ajax/libs/Leaflet.awesome-markers/2.0.2/leaflet.awesome-markers.js%22%3E%3C/script%3E%0A%20%20%20%20%3Clink%20rel%3D%22stylesheet%22%20href%3D%22https%3A//cdn.jsdelivr.net/npm/leaflet%401.4.0/dist/leaflet.css%22/%3E%0A%20%20%20%20%3Clink%20rel%3D%22stylesheet%22%20href%3D%22https%3A//maxcdn.bootstrapcdn.com/bootstrap/3.2.0/css/bootstrap.min.css%22/%3E%0A%20%20%20%20%3Clink%20rel%3D%22stylesheet%22%20href%3D%22https%3A//maxcdn.bootstrapcdn.com/bootstrap/3.2.0/css/bootstrap-theme.min.css%22/%3E%0A%20%20%20%20%3Clink%20rel%3D%22stylesheet%22%20href%3D%22https%3A//maxcdn.bootstrapcdn.com/font-awesome/4.6.3/css/font-awesome.min.css%22/%3E%0A%20%20%20%20%3Clink%20rel%3D%22stylesheet%22%20href%3D%22https%3A//cdnjs.cloudflare.com/ajax/libs/Leaflet.awesome-markers/2.0.2/leaflet.awesome-markers.css%22/%3E%0A%20%20%20%20%3Clink%20rel%3D%22stylesheet%22%20href%3D%22https%3A//rawcdn.githack.com/python-visualization/folium/master/folium/templates/leaflet.awesome.rotate.css%22/%3E%0A%20%20%20%20%3Cstyle%3Ehtml%2C%20body%20%7Bwidth%3A%20100%25%3Bheight%3A%20100%25%3Bmargin%3A%200%3Bpadding%3A%200%3B%7D%3C/style%3E%0A%20%20%20%20%3Cstyle%3E%23map%20%7Bposition%3Aabsolute%3Btop%3A0%3Bbottom%3A0%3Bright%3A0%3Bleft%3A0%3B%7D%3C/style%3E%0A%20%20%20%20%0A%20%20%20%20%3Cmeta%20name%3D%22viewport%22%20content%3D%22width%3Ddevice-width%2C%0A%20%20%20%20%20%20%20%20initial-scale%3D1.0%2C%20maximum-scale%3D1.0%2C%20user-scalable%3Dno%22%20/%3E%0A%20%20%20%20%3Cstyle%3E%23map_e322e85408a04d90a8f65109aca06a80%20%7B%0A%20%20%20%20%20%20%20%20position%3A%20relative%3B%0A%20%20%20%20%20%20%20%20width%3A%20100.0%25%3B%0A%20%20%20%20%20%20%20%20height%3A%20100.0%25%3B%0A%20%20%20%20%20%20%20%20left%3A%200.0%25%3B%0A%20%20%20%20%20%20%20%20top%3A%200.0%25%3B%0A%20%20%20%20%20%20%20%20%7D%0A%20%20%20%20%3C/style%3E%0A%3C/head%3E%0A%3Cbody%3E%20%20%20%20%0A%20%20%20%20%0A%20%20%20%20%3Cdiv%20class%3D%22folium-map%22%20id%3D%22map_e322e85408a04d90a8f65109aca06a80%22%20%3E%3C/div%3E%0A%3C/body%3E%0A%3Cscript%3E%20%20%20%20%0A%20%20%20%20%0A%20%20%20%20%0A%20%20%20%20%20%20%20%20var%20bounds%20%3D%20null%3B%0A%20%20%20%20%0A%0A%20%20%20%20var%20map_e322e85408a04d90a8f65109aca06a80%20%3D%20L.map%28%0A%20%20%20%20%20%20%20%20%27map_e322e85408a04d90a8f65109aca06a80%27%2C%20%7B%0A%20%20%20%20%20%20%20%20center%3A%20%5B-28.0167%2C%20153.4%5D%2C%0A%20%20%20%20%20%20%20%20zoom%3A%2010%2C%0A%20%20%20%20%20%20%20%20maxBounds%3A%20bounds%2C%0A%20%20%20%20%20%20%20%20layers%3A%20%5B%5D%2C%0A%20%20%20%20%20%20%20%20worldCopyJump%3A%20false%2C%0A%20%20%20%20%20%20%20%20crs%3A%20L.CRS.EPSG3857%2C%0A%20%20%20%20%20%20%20%20zoomControl%3A%20true%2C%0A%20%20%20%20%20%20%20%20%7D%29%3B%0A%0A%0A%20%20%20%20%0A%20%20%20%20var%20tile_layer_a7b0ff86293046eca109ac4174db1a22%20%3D%20L.tileLayer%28%0A%20%20%20%20%20%20%20%20%27https%3A//cartodb-basemaps-%7Bs%7D.global.ssl.fastly.net/light_all/%7Bz%7D/%7Bx%7D/%7By%7D.png%27%2C%0A%20%20%20%20%20%20%20%20%7B%0A%20%20%20%20%20%20%20%20%22attribution%22%3A%20null%2C%0A%20%20%20%20%20%20%20%20%22detectRetina%22%3A%20false%2C%0A%20%20%20%20%20%20%20%20%22maxNativeZoom%22%3A%2018%2C%0A%20%20%20%20%20%20%20%20%22maxZoom%22%3A%2018%2C%0A%20%20%20%20%20%20%20%20%22minZoom%22%3A%200%2C%0A%20%20%20%20%20%20%20%20%22noWrap%22%3A%20false%2C%0A%20%20%20%20%20%20%20%20%22opacity%22%3A%201%2C%0A%20%20%20%20%20%20%20%20%22subdomains%22%3A%20%22abc%22%2C%0A%20%20%20%20%20%20%20%20%22tms%22%3A%20false%0A%7D%29.addTo%28map_e322e85408a04d90a8f65109aca06a80%29%3B%0A%20%20%20%20%0A%0A%20%20%20%20%20%20%20%20%20%20%20%20var%20circle_c63b9579420948aeba5a2e1af5f44cd3%20%3D%20L.circle%28%0A%20%20%20%20%20%20%20%20%20%20%20%20%20%20%20%20%5B45.5244%2C%20-122.6699%5D%2C%0A%20%20%20%20%20%20%20%20%20%20%20%20%20%20%20%20%7B%0A%20%20%22bubblingMouseEvents%22%3A%20true%2C%0A%20%20%22color%22%3A%20%22crimson%22%2C%0A%20%20%22dashArray%22%3A%20null%2C%0A%20%20%22dashOffset%22%3A%20null%2C%0A%20%20%22fill%22%3A%20false%2C%0A%20%20%22fillColor%22%3A%20%22crimson%22%2C%0A%20%20%22fillOpacity%22%3A%200.2%2C%0A%20%20%22fillRule%22%3A%20%22evenodd%22%2C%0A%20%20%22lineCap%22%3A%20%22round%22%2C%0A%20%20%22lineJoin%22%3A%20%22round%22%2C%0A%20%20%22opacity%22%3A%201.0%2C%0A%20%20%22radius%22%3A%20100%2C%0A%20%20%22stroke%22%3A%20true%2C%0A%20%20%22weight%22%3A%203%0A%7D%0A%20%20%20%20%20%20%20%20%20%20%20%20%20%20%20%20%29%0A%20%20%20%20%20%20%20%20%20%20%20%20%20%20%20%20.addTo%28map_e322e85408a04d90a8f65109aca06a80%29%3B%0A%20%20%20%20%20%20%20%20%20%20%20%20%0A%20%20%20%20%0A%20%20%20%20%20%20%20%20%20%20%20%20var%20popup_4a3fe08f57974230806c43b095ca1769%20%3D%20L.popup%28%7BmaxWidth%3A%20%27100%25%27%0A%20%20%20%20%20%20%20%20%20%20%20%20%0A%20%20%20%20%20%20%20%20%20%20%20%20%7D%29%3B%0A%0A%20%20%20%20%20%20%20%20%20%20%20%20%0A%20%20%20%20%20%20%20%20%20%20%20%20%20%20%20%20var%20html_e12f7fd7cd804fb18c2e19c9f117bcbb%20%3D%20%24%28%60%3Cdiv%20id%3D%22html_e12f7fd7cd804fb18c2e19c9f117bcbb%22%20style%3D%22width%3A%20100.0%25%3B%20height%3A%20100.0%25%3B%22%3EThe%20Waterfront%3C/div%3E%60%29%5B0%5D%3B%0A%20%20%20%20%20%20%20%20%20%20%20%20%20%20%20%20popup_4a3fe08f57974230806c43b095ca1769.setContent%28html_e12f7fd7cd804fb18c2e19c9f117bcbb%29%3B%0A%20%20%20%20%20%20%20%20%20%20%20%20%0A%0A%20%20%20%20%20%20%20%20%20%20%20%20circle_c63b9579420948aeba5a2e1af5f44cd3.bindPopup%28popup_4a3fe08f57974230806c43b095ca1769%29%0A%20%20%20%20%20%20%20%20%20%20%20%20%3B%0A%0A%20%20%20%20%20%20%20%20%20%20%20%20%0A%20%20%20%20%20%20%20%20%0A%20%20%20%20%0A%0A%20%20%20%20%20%20%20%20%20%20%20%20var%20circle_c7c90688f9884b52bb1551122688e0f9%20%3D%20L.circle%28%0A%20%20%20%20%20%20%20%20%20%20%20%20%20%20%20%20%5B45.5244%2C%20-122.6699%5D%2C%0A%20%20%20%20%20%20%20%20%20%20%20%20%20%20%20%20%7B%0A%20%20%22bubblingMouseEvents%22%3A%20true%2C%0A%20%20%22color%22%3A%20%22crimson%22%2C%0A%20%20%22dashArray%22%3A%20null%2C%0A%20%20%22dashOffset%22%3A%20null%2C%0A%20%20%22fill%22%3A%20false%2C%0A%20%20%22fillColor%22%3A%20%22crimson%22%2C%0A%20%20%22fillOpacity%22%3A%200.2%2C%0A%20%20%22fillRule%22%3A%20%22evenodd%22%2C%0A%20%20%22lineCap%22%3A%20%22round%22%2C%0A%20%20%22lineJoin%22%3A%20%22round%22%2C%0A%20%20%22opacity%22%3A%201.0%2C%0A%20%20%22radius%22%3A%20100%2C%0A%20%20%22stroke%22%3A%20true%2C%0A%20%20%22weight%22%3A%203%0A%7D%0A%20%20%20%20%20%20%20%20%20%20%20%20%20%20%20%20%29%0A%20%20%20%20%20%20%20%20%20%20%20%20%20%20%20%20.addTo%28map_e322e85408a04d90a8f65109aca06a80%29%3B%0A%20%20%20%20%20%20%20%20%20%20%20%20%0A%20%20%20%20%0A%20%20%20%20%20%20%20%20%20%20%20%20var%20popup_9c45d39254644fa2ae11e0d02f7c55c6%20%3D%20L.popup%28%7BmaxWidth%3A%20%27100%25%27%0A%20%20%20%20%20%20%20%20%20%20%20%20%0A%20%20%20%20%20%20%20%20%20%20%20%20%7D%29%3B%0A%0A%20%20%20%20%20%20%20%20%20%20%20%20%0A%20%20%20%20%20%20%20%20%20%20%20%20%20%20%20%20var%20html_85aede7973f84be8b2d8fa50b7542a0a%20%3D%20%24%28%60%3Cdiv%20id%3D%22html_85aede7973f84be8b2d8fa50b7542a0a%22%20style%3D%22width%3A%20100.0%25%3B%20height%3A%20100.0%25%3B%22%3EThe%20Waterfront%3C/div%3E%60%29%5B0%5D%3B%0A%20%20%20%20%20%20%20%20%20%20%20%20%20%20%20%20popup_9c45d39254644fa2ae11e0d02f7c55c6.setContent%28html_85aede7973f84be8b2d8fa50b7542a0a%29%3B%0A%20%20%20%20%20%20%20%20%20%20%20%20%0A%0A%20%20%20%20%20%20%20%20%20%20%20%20circle_c7c90688f9884b52bb1551122688e0f9.bindPopup%28popup_9c45d39254644fa2ae11e0d02f7c55c6%29%0A%20%20%20%20%20%20%20%20%20%20%20%20%3B%0A%0A%20%20%20%20%20%20%20%20%20%20%20%20%0A%20%20%20%20%20%20%20%20%0A%3C/script%3E onload=\"this.contentDocument.open();this.contentDocument.write(    decodeURIComponent(this.getAttribute('data-html')));this.contentDocument.close();\" allowfullscreen webkitallowfullscreen mozallowfullscreen></iframe></div></div>"
            ],
            "text/plain": [
              "<folium.folium.Map at 0x7f01ed20e890>"
            ]
          },
          "metadata": {
            "tags": []
          },
          "execution_count": 65
        }
      ]
    },
    {
      "cell_type": "code",
      "metadata": {
        "id": "DQWKH9jgwSJP"
      },
      "source": [
        ""
      ],
      "execution_count": null,
      "outputs": []
    }
  ]
}