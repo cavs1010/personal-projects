{
  "nbformat": 4,
  "nbformat_minor": 0,
  "metadata": {
    "colab": {
      "name": "GC - Real Estate.ipynb",
      "provenance": [],
      "authorship_tag": "ABX9TyPy0XcU/3fRKxYIzm9gwyYk",
      "include_colab_link": true
    },
    "kernelspec": {
      "name": "python3",
      "display_name": "Python 3"
    },
    "language_info": {
      "name": "python"
    }
  },
  "cells": [
    {
      "cell_type": "markdown",
      "metadata": {
        "id": "view-in-github",
        "colab_type": "text"
      },
      "source": [
        "<a href=\"https://colab.research.google.com/github/cavs1010/personal-projects/blob/main/GC_Real_Estate.ipynb\" target=\"_parent\"><img src=\"https://colab.research.google.com/assets/colab-badge.svg\" alt=\"Open In Colab\"/></a>"
      ]
    },
    {
      "cell_type": "markdown",
      "metadata": {
        "id": "rSyPSBBv0bol"
      },
      "source": [
        "#1. Data Collection"
      ]
    },
    {
      "cell_type": "markdown",
      "metadata": {
        "id": "2PxHG0sU0liJ"
      },
      "source": [
        "The data will be collected from https://www.domain.com.au/rent/gold-coast-qld/ <br> I tried using www.realestate.com.au but there is not permission."
      ]
    },
    {
      "cell_type": "code",
      "metadata": {
        "colab": {
          "base_uri": "https://localhost:8080/"
        },
        "id": "YXZoVWPq1WCF",
        "outputId": "7f10313a-80b8-472a-cd2a-03e631dbee9a"
      },
      "source": [
        "# Install the main libraries for web scrapping\n",
        "! pip3 install requests\n",
        "! pip3 install beautifulsoup4"
      ],
      "execution_count": 27,
      "outputs": [
        {
          "output_type": "stream",
          "text": [
            "Requirement already satisfied: requests in /usr/local/lib/python3.7/dist-packages (2.23.0)\n",
            "Requirement already satisfied: idna<3,>=2.5 in /usr/local/lib/python3.7/dist-packages (from requests) (2.10)\n",
            "Requirement already satisfied: chardet<4,>=3.0.2 in /usr/local/lib/python3.7/dist-packages (from requests) (3.0.4)\n",
            "Requirement already satisfied: certifi>=2017.4.17 in /usr/local/lib/python3.7/dist-packages (from requests) (2020.12.5)\n",
            "Requirement already satisfied: urllib3!=1.25.0,!=1.25.1,<1.26,>=1.21.1 in /usr/local/lib/python3.7/dist-packages (from requests) (1.24.3)\n",
            "Requirement already satisfied: beautifulsoup4 in /usr/local/lib/python3.7/dist-packages (4.6.3)\n"
          ],
          "name": "stdout"
        }
      ]
    },
    {
      "cell_type": "code",
      "metadata": {
        "id": "_KsQiI591XLS"
      },
      "source": [
        "#Import Main Libraries\n",
        "import requests\n",
        "from bs4 import BeautifulSoup\n",
        "import pandas as pd\n",
        "import re\n",
        "import math"
      ],
      "execution_count": 28,
      "outputs": []
    },
    {
      "cell_type": "code",
      "metadata": {
        "id": "xedfTIQ82GL4"
      },
      "source": [
        "URL = 'https://www.domain.com.au/rent/gold-coast-qld/'\n",
        "page = requests.get(URL)"
      ],
      "execution_count": 29,
      "outputs": []
    },
    {
      "cell_type": "code",
      "metadata": {
        "id": "TtaPdU0c2epd"
      },
      "source": [
        "soup = BeautifulSoup(page.content, 'html.parser')"
      ],
      "execution_count": 30,
      "outputs": []
    },
    {
      "cell_type": "code",
      "metadata": {
        "id": "C3qxlzN-RJKU"
      },
      "source": [
        "#Number of web pages to read\n",
        "numberOfWebsToRead = soup.find(\"h1\", attrs={\"class\": \"css-ekkwk0\"}).text\n",
        "numberOfWebsToRead = int(re.findall(r'\\d+', numberOfWebsToRead)[0])\n",
        "numberOfWebsToRead = numberOfWebsToRead /21\n",
        "numberOfWebsToRead = math.floor(numberOfWebsToRead)"
      ],
      "execution_count": 31,
      "outputs": []
    },
    {
      "cell_type": "code",
      "metadata": {
        "id": "7uAxQ7YOQ8hi",
        "colab": {
          "base_uri": "https://localhost:8080/"
        },
        "outputId": "b13a7f96-6638-41c4-df01-e00653bbbcd9"
      },
      "source": [
        " #Arrays for the ammenities in the house\n",
        " mainAddressArray = []\n",
        " secondAddressArray = []\n",
        " postalCodeArray = []\n",
        " rentArray = []\n",
        " bedsArray = []\n",
        " bathsArray = []\n",
        " parkingArray = []\n",
        " buildingTypeArray = []\n",
        "\n",
        "for i in range (1,7):\n",
        "  URL = 'https://www.domain.com.au/rent/gold-coast-qld/?page='+str(i)\n",
        "  page = requests.get(URL)\n",
        "  soup = BeautifulSoup(page.content, 'html.parser')\n",
        "  #Each element will cotain the info required for my work\n",
        "  elements = soup.find_all(\"div\", class_=\"css-1n74r2t\")\n",
        "  for element in elements:\n",
        "    mainAddress = element.find(\"span\", attrs={\"data-testid\": \"address-line1\"})\n",
        "    secondAddress = element.find(\"span\", attrs={\"itemprop\": \"addressLocality\"})\n",
        "    postalCode = element.find(\"span\", attrs={\"itemprop\": \"postalCode\"})\n",
        "    rent = element.find(\"p\", attrs={\"data-testid\": \"listing-card-price\"})\n",
        "    ammenities = element.find_all(\"span\", attrs={\"class\": \"css-1rzse3v\"})\n",
        "    buildingType = element.find(\"span\", attrs={\"class\": \"css-693528\"})\n",
        "    if all(label is not None for label in [mainAddress, secondAddress, postalCode, rent, ammenities[0], ammenities[1], ammenities[2], buildingType]):\n",
        "      mainAddressArray.append(mainAddress.text)\n",
        "      secondAddressArray.append(secondAddress.text)\n",
        "      postalCodeArray.append(postalCode.text)\n",
        "      rentArray.append(rent.text)\n",
        "      bedsArray.append(ammenities[0].text)\n",
        "      bathsArray.append(ammenities[1].text)\n",
        "      parkingArray.append(ammenities[2].text)\n",
        "      buildingTypeArray.append(buildingType.text)\n",
        "    else:\n",
        "      print('It was not possible to add an element in page '+str(i)+\" becasue it's missing some values\")"
      ],
      "execution_count": 32,
      "outputs": [
        {
          "output_type": "stream",
          "text": [
            "It was not possible to add an element in page 3 becasue it's missing some values\n"
          ],
          "name": "stdout"
        }
      ]
    },
    {
      "cell_type": "markdown",
      "metadata": {
        "id": "8AyOqq2ZqJYo"
      },
      "source": [
        "## Final data gathered:"
      ]
    },
    {
      "cell_type": "code",
      "metadata": {
        "colab": {
          "base_uri": "https://localhost:8080/",
          "height": 419
        },
        "id": "I6-MXV4cVW2H",
        "outputId": "b632471a-e22e-4a63-ec48-dca29a9b8a2d"
      },
      "source": [
        "dictionary = {'Main Address': mainAddressArray, \n",
        "              'Second Address': secondAddressArray, \n",
        "              'Postal Code': postalCodeArray, \n",
        "              'Rent':rentArray, \n",
        "              'Bedrooms': bedsArray, \n",
        "              'Bathrooms': bathsArray,\n",
        "              'Parking spaces': parkingArray,\n",
        "              'Building Type': buildingTypeArray}\n",
        "df = pd.DataFrame(dictionary)\n",
        "df"
      ],
      "execution_count": 33,
      "outputs": [
        {
          "output_type": "execute_result",
          "data": {
            "text/html": [
              "<div>\n",
              "<style scoped>\n",
              "    .dataframe tbody tr th:only-of-type {\n",
              "        vertical-align: middle;\n",
              "    }\n",
              "\n",
              "    .dataframe tbody tr th {\n",
              "        vertical-align: top;\n",
              "    }\n",
              "\n",
              "    .dataframe thead th {\n",
              "        text-align: right;\n",
              "    }\n",
              "</style>\n",
              "<table border=\"1\" class=\"dataframe\">\n",
              "  <thead>\n",
              "    <tr style=\"text-align: right;\">\n",
              "      <th></th>\n",
              "      <th>Main Address</th>\n",
              "      <th>Second Address</th>\n",
              "      <th>Postal Code</th>\n",
              "      <th>Rent</th>\n",
              "      <th>Bedrooms</th>\n",
              "      <th>Bathrooms</th>\n",
              "      <th>Parking spaces</th>\n",
              "      <th>Building Type</th>\n",
              "    </tr>\n",
              "  </thead>\n",
              "  <tbody>\n",
              "    <tr>\n",
              "      <th>0</th>\n",
              "      <td>53 Oxford St,</td>\n",
              "      <td>PIMPAMA</td>\n",
              "      <td>4209</td>\n",
              "      <td>$480 Weekly</td>\n",
              "      <td>4 .css-9fxapx{position:absolute;width:1px;heig...</td>\n",
              "      <td>2 Baths</td>\n",
              "      <td>2 Parking</td>\n",
              "      <td>House</td>\n",
              "    </tr>\n",
              "    <tr>\n",
              "      <th>1</th>\n",
              "      <td>1 Macarthur Street,</td>\n",
              "      <td>PIMPAMA</td>\n",
              "      <td>4209</td>\n",
              "      <td>$490 Per Week</td>\n",
              "      <td>4 Beds</td>\n",
              "      <td>1 Bath</td>\n",
              "      <td>2 Parking</td>\n",
              "      <td>House</td>\n",
              "    </tr>\n",
              "    <tr>\n",
              "      <th>2</th>\n",
              "      <td>55 Nicola Way,</td>\n",
              "      <td>UPPER COOMERA</td>\n",
              "      <td>4209</td>\n",
              "      <td>$500 per week</td>\n",
              "      <td>4 Beds</td>\n",
              "      <td>2 Baths</td>\n",
              "      <td>2 Parking</td>\n",
              "      <td>House</td>\n",
              "    </tr>\n",
              "    <tr>\n",
              "      <th>3</th>\n",
              "      <td>27 Florabella Drive,</td>\n",
              "      <td>ROBINA</td>\n",
              "      <td>4226</td>\n",
              "      <td>$600</td>\n",
              "      <td>3 Beds</td>\n",
              "      <td>2 Baths</td>\n",
              "      <td>2 Parking</td>\n",
              "      <td>House</td>\n",
              "    </tr>\n",
              "    <tr>\n",
              "      <th>4</th>\n",
              "      <td>1/18 Lenneberg Street,</td>\n",
              "      <td>SOUTHPORT</td>\n",
              "      <td>4215</td>\n",
              "      <td>$650</td>\n",
              "      <td>3 Beds</td>\n",
              "      <td>2 Baths</td>\n",
              "      <td>2 Parking</td>\n",
              "      <td>Townhouse</td>\n",
              "    </tr>\n",
              "    <tr>\n",
              "      <th>...</th>\n",
              "      <td>...</td>\n",
              "      <td>...</td>\n",
              "      <td>...</td>\n",
              "      <td>...</td>\n",
              "      <td>...</td>\n",
              "      <td>...</td>\n",
              "      <td>...</td>\n",
              "      <td>...</td>\n",
              "    </tr>\n",
              "    <tr>\n",
              "      <th>94</th>\n",
              "      <td>17/120 The Esplanade,</td>\n",
              "      <td>SURFERS PARADISE</td>\n",
              "      <td>4217</td>\n",
              "      <td>$380 P/W Ocean View!</td>\n",
              "      <td>2 Beds</td>\n",
              "      <td>1 Bath</td>\n",
              "      <td>1 Parking</td>\n",
              "      <td>Apartment / Unit / Flat</td>\n",
              "    </tr>\n",
              "    <tr>\n",
              "      <th>95</th>\n",
              "      <td>26 Springsure Drive,</td>\n",
              "      <td>MUDGEERABA</td>\n",
              "      <td>4213</td>\n",
              "      <td>$650</td>\n",
              "      <td>3 Beds</td>\n",
              "      <td>2 Baths</td>\n",
              "      <td>2 Parking</td>\n",
              "      <td>House</td>\n",
              "    </tr>\n",
              "    <tr>\n",
              "      <th>96</th>\n",
              "      <td>19 Norfolk Avenue,</td>\n",
              "      <td>SURFERS PARADISE</td>\n",
              "      <td>4217</td>\n",
              "      <td>$600 per week</td>\n",
              "      <td>3 Beds</td>\n",
              "      <td>2 Baths</td>\n",
              "      <td>2 Parking</td>\n",
              "      <td>House</td>\n",
              "    </tr>\n",
              "    <tr>\n",
              "      <th>97</th>\n",
              "      <td>3/57 Garrick Street,</td>\n",
              "      <td>COOLANGATTA</td>\n",
              "      <td>4225</td>\n",
              "      <td>$485</td>\n",
              "      <td>2 Beds</td>\n",
              "      <td>1 Bath</td>\n",
              "      <td>1 Parking</td>\n",
              "      <td>Apartment / Unit / Flat</td>\n",
              "    </tr>\n",
              "    <tr>\n",
              "      <th>98</th>\n",
              "      <td>6 AQUA,</td>\n",
              "      <td>SOUTHPORT</td>\n",
              "      <td>4215</td>\n",
              "      <td>$560</td>\n",
              "      <td>2 Beds</td>\n",
              "      <td>2 Baths</td>\n",
              "      <td>1 Parking</td>\n",
              "      <td>Apartment / Unit / Flat</td>\n",
              "    </tr>\n",
              "  </tbody>\n",
              "</table>\n",
              "<p>99 rows × 8 columns</p>\n",
              "</div>"
            ],
            "text/plain": [
              "               Main Address  ...            Building Type\n",
              "0            53 Oxford St,   ...                    House\n",
              "1      1 Macarthur Street,   ...                    House\n",
              "2           55 Nicola Way,   ...                    House\n",
              "3     27 Florabella Drive,   ...                    House\n",
              "4   1/18 Lenneberg Street,   ...                Townhouse\n",
              "..                      ...  ...                      ...\n",
              "94   17/120 The Esplanade,   ...  Apartment / Unit / Flat\n",
              "95    26 Springsure Drive,   ...                    House\n",
              "96      19 Norfolk Avenue,   ...                    House\n",
              "97    3/57 Garrick Street,   ...  Apartment / Unit / Flat\n",
              "98                 6 AQUA,   ...  Apartment / Unit / Flat\n",
              "\n",
              "[99 rows x 8 columns]"
            ]
          },
          "metadata": {
            "tags": []
          },
          "execution_count": 33
        }
      ]
    },
    {
      "cell_type": "markdown",
      "metadata": {
        "id": "h_rvTAYHTFZF"
      },
      "source": [
        "# 2. Data Cleaning"
      ]
    },
    {
      "cell_type": "code",
      "metadata": {
        "id": "3Jg6qWfeUVrH"
      },
      "source": [
        "dfCopy = df.copy()"
      ],
      "execution_count": 34,
      "outputs": []
    },
    {
      "cell_type": "code",
      "metadata": {
        "id": "o6kn2k1scvZY"
      },
      "source": [
        "#Function that transform the columns[Bedrooms, Bathrooms and Parking Spaces] to integers\n",
        "#columnName : Name of the column to transform into an integer.\n",
        "def toInteger (columnName):\n",
        "  for ind in dfCopy[columnName].index:\n",
        "    value = dfCopy[columnName][ind][0]\n",
        "    if (value == '−'):\n",
        "      value = 0\n",
        "    else:\n",
        "      value = int(value)\n",
        "    dfCopy[columnName][ind] = value"
      ],
      "execution_count": 35,
      "outputs": []
    },
    {
      "cell_type": "code",
      "metadata": {
        "colab": {
          "base_uri": "https://localhost:8080/",
          "height": 419
        },
        "id": "8r9ti5eLd_zM",
        "outputId": "a1cf62f7-d48a-46a6-b4ec-ef07cef94166"
      },
      "source": [
        "toInteger('Bathrooms')\n",
        "toInteger('Bedrooms')\n",
        "toInteger('Parking spaces')\n",
        "dfCopy"
      ],
      "execution_count": 36,
      "outputs": [
        {
          "output_type": "execute_result",
          "data": {
            "text/html": [
              "<div>\n",
              "<style scoped>\n",
              "    .dataframe tbody tr th:only-of-type {\n",
              "        vertical-align: middle;\n",
              "    }\n",
              "\n",
              "    .dataframe tbody tr th {\n",
              "        vertical-align: top;\n",
              "    }\n",
              "\n",
              "    .dataframe thead th {\n",
              "        text-align: right;\n",
              "    }\n",
              "</style>\n",
              "<table border=\"1\" class=\"dataframe\">\n",
              "  <thead>\n",
              "    <tr style=\"text-align: right;\">\n",
              "      <th></th>\n",
              "      <th>Main Address</th>\n",
              "      <th>Second Address</th>\n",
              "      <th>Postal Code</th>\n",
              "      <th>Rent</th>\n",
              "      <th>Bedrooms</th>\n",
              "      <th>Bathrooms</th>\n",
              "      <th>Parking spaces</th>\n",
              "      <th>Building Type</th>\n",
              "    </tr>\n",
              "  </thead>\n",
              "  <tbody>\n",
              "    <tr>\n",
              "      <th>0</th>\n",
              "      <td>53 Oxford St,</td>\n",
              "      <td>PIMPAMA</td>\n",
              "      <td>4209</td>\n",
              "      <td>$480 Weekly</td>\n",
              "      <td>4</td>\n",
              "      <td>2</td>\n",
              "      <td>2</td>\n",
              "      <td>House</td>\n",
              "    </tr>\n",
              "    <tr>\n",
              "      <th>1</th>\n",
              "      <td>1 Macarthur Street,</td>\n",
              "      <td>PIMPAMA</td>\n",
              "      <td>4209</td>\n",
              "      <td>$490 Per Week</td>\n",
              "      <td>4</td>\n",
              "      <td>1</td>\n",
              "      <td>2</td>\n",
              "      <td>House</td>\n",
              "    </tr>\n",
              "    <tr>\n",
              "      <th>2</th>\n",
              "      <td>55 Nicola Way,</td>\n",
              "      <td>UPPER COOMERA</td>\n",
              "      <td>4209</td>\n",
              "      <td>$500 per week</td>\n",
              "      <td>4</td>\n",
              "      <td>2</td>\n",
              "      <td>2</td>\n",
              "      <td>House</td>\n",
              "    </tr>\n",
              "    <tr>\n",
              "      <th>3</th>\n",
              "      <td>27 Florabella Drive,</td>\n",
              "      <td>ROBINA</td>\n",
              "      <td>4226</td>\n",
              "      <td>$600</td>\n",
              "      <td>3</td>\n",
              "      <td>2</td>\n",
              "      <td>2</td>\n",
              "      <td>House</td>\n",
              "    </tr>\n",
              "    <tr>\n",
              "      <th>4</th>\n",
              "      <td>1/18 Lenneberg Street,</td>\n",
              "      <td>SOUTHPORT</td>\n",
              "      <td>4215</td>\n",
              "      <td>$650</td>\n",
              "      <td>3</td>\n",
              "      <td>2</td>\n",
              "      <td>2</td>\n",
              "      <td>Townhouse</td>\n",
              "    </tr>\n",
              "    <tr>\n",
              "      <th>...</th>\n",
              "      <td>...</td>\n",
              "      <td>...</td>\n",
              "      <td>...</td>\n",
              "      <td>...</td>\n",
              "      <td>...</td>\n",
              "      <td>...</td>\n",
              "      <td>...</td>\n",
              "      <td>...</td>\n",
              "    </tr>\n",
              "    <tr>\n",
              "      <th>94</th>\n",
              "      <td>17/120 The Esplanade,</td>\n",
              "      <td>SURFERS PARADISE</td>\n",
              "      <td>4217</td>\n",
              "      <td>$380 P/W Ocean View!</td>\n",
              "      <td>2</td>\n",
              "      <td>1</td>\n",
              "      <td>1</td>\n",
              "      <td>Apartment / Unit / Flat</td>\n",
              "    </tr>\n",
              "    <tr>\n",
              "      <th>95</th>\n",
              "      <td>26 Springsure Drive,</td>\n",
              "      <td>MUDGEERABA</td>\n",
              "      <td>4213</td>\n",
              "      <td>$650</td>\n",
              "      <td>3</td>\n",
              "      <td>2</td>\n",
              "      <td>2</td>\n",
              "      <td>House</td>\n",
              "    </tr>\n",
              "    <tr>\n",
              "      <th>96</th>\n",
              "      <td>19 Norfolk Avenue,</td>\n",
              "      <td>SURFERS PARADISE</td>\n",
              "      <td>4217</td>\n",
              "      <td>$600 per week</td>\n",
              "      <td>3</td>\n",
              "      <td>2</td>\n",
              "      <td>2</td>\n",
              "      <td>House</td>\n",
              "    </tr>\n",
              "    <tr>\n",
              "      <th>97</th>\n",
              "      <td>3/57 Garrick Street,</td>\n",
              "      <td>COOLANGATTA</td>\n",
              "      <td>4225</td>\n",
              "      <td>$485</td>\n",
              "      <td>2</td>\n",
              "      <td>1</td>\n",
              "      <td>1</td>\n",
              "      <td>Apartment / Unit / Flat</td>\n",
              "    </tr>\n",
              "    <tr>\n",
              "      <th>98</th>\n",
              "      <td>6 AQUA,</td>\n",
              "      <td>SOUTHPORT</td>\n",
              "      <td>4215</td>\n",
              "      <td>$560</td>\n",
              "      <td>2</td>\n",
              "      <td>2</td>\n",
              "      <td>1</td>\n",
              "      <td>Apartment / Unit / Flat</td>\n",
              "    </tr>\n",
              "  </tbody>\n",
              "</table>\n",
              "<p>99 rows × 8 columns</p>\n",
              "</div>"
            ],
            "text/plain": [
              "               Main Address  ...            Building Type\n",
              "0            53 Oxford St,   ...                    House\n",
              "1      1 Macarthur Street,   ...                    House\n",
              "2           55 Nicola Way,   ...                    House\n",
              "3     27 Florabella Drive,   ...                    House\n",
              "4   1/18 Lenneberg Street,   ...                Townhouse\n",
              "..                      ...  ...                      ...\n",
              "94   17/120 The Esplanade,   ...  Apartment / Unit / Flat\n",
              "95    26 Springsure Drive,   ...                    House\n",
              "96      19 Norfolk Avenue,   ...                    House\n",
              "97    3/57 Garrick Street,   ...  Apartment / Unit / Flat\n",
              "98                 6 AQUA,   ...  Apartment / Unit / Flat\n",
              "\n",
              "[99 rows x 8 columns]"
            ]
          },
          "metadata": {
            "tags": []
          },
          "execution_count": 36
        }
      ]
    },
    {
      "cell_type": "markdown",
      "metadata": {
        "id": "zFXbdlqbqVp9"
      },
      "source": [
        "## Transform the rent into a float:"
      ]
    },
    {
      "cell_type": "code",
      "metadata": {
        "colab": {
          "base_uri": "https://localhost:8080/"
        },
        "id": "wfGdJrvcZuz9",
        "outputId": "a8bcb0d8-9743-4005-cce3-c52225851bf2"
      },
      "source": [
        "\n",
        "rentIntArray = []\n",
        "for ind in dfCopy['Rent'].index:\n",
        "  #Extract the numbers from the string\n",
        "  lista = re.findall(r'\\d+', dfCopy['Rent'][ind])\n",
        "  finalRent = ''.join(lista)\n",
        "  #Eliminate the row if the number is ''\n",
        "  if (finalRent == ''):\n",
        "    dfCopy.drop([ind], inplace=True)\n",
        "    print ('This is the problem index: '+str(ind)+', so it was eliminated' )\n",
        "  #Otherwise, it add the number to a list\n",
        "  else:\n",
        "    dfCopy['Rent'][ind] = float(finalRent)\n",
        "    rentIntArray.append(float(finalRent))"
      ],
      "execution_count": 37,
      "outputs": [
        {
          "output_type": "stream",
          "text": [
            "This is the problem index: 50, so it was eliminated\n"
          ],
          "name": "stdout"
        }
      ]
    },
    {
      "cell_type": "code",
      "metadata": {
        "colab": {
          "base_uri": "https://localhost:8080/",
          "height": 204
        },
        "id": "KIIlbeecR4eW",
        "outputId": "eac90e4a-ad17-4950-dc9e-995ff6e70263"
      },
      "source": [
        "dfCopy.head()"
      ],
      "execution_count": 39,
      "outputs": [
        {
          "output_type": "execute_result",
          "data": {
            "text/html": [
              "<div>\n",
              "<style scoped>\n",
              "    .dataframe tbody tr th:only-of-type {\n",
              "        vertical-align: middle;\n",
              "    }\n",
              "\n",
              "    .dataframe tbody tr th {\n",
              "        vertical-align: top;\n",
              "    }\n",
              "\n",
              "    .dataframe thead th {\n",
              "        text-align: right;\n",
              "    }\n",
              "</style>\n",
              "<table border=\"1\" class=\"dataframe\">\n",
              "  <thead>\n",
              "    <tr style=\"text-align: right;\">\n",
              "      <th></th>\n",
              "      <th>Main Address</th>\n",
              "      <th>Second Address</th>\n",
              "      <th>Postal Code</th>\n",
              "      <th>Rent</th>\n",
              "      <th>Bedrooms</th>\n",
              "      <th>Bathrooms</th>\n",
              "      <th>Parking spaces</th>\n",
              "      <th>Building Type</th>\n",
              "    </tr>\n",
              "  </thead>\n",
              "  <tbody>\n",
              "    <tr>\n",
              "      <th>0</th>\n",
              "      <td>53 Oxford St,</td>\n",
              "      <td>PIMPAMA</td>\n",
              "      <td>4209</td>\n",
              "      <td>480</td>\n",
              "      <td>4</td>\n",
              "      <td>2</td>\n",
              "      <td>2</td>\n",
              "      <td>House</td>\n",
              "    </tr>\n",
              "    <tr>\n",
              "      <th>1</th>\n",
              "      <td>1 Macarthur Street,</td>\n",
              "      <td>PIMPAMA</td>\n",
              "      <td>4209</td>\n",
              "      <td>490</td>\n",
              "      <td>4</td>\n",
              "      <td>1</td>\n",
              "      <td>2</td>\n",
              "      <td>House</td>\n",
              "    </tr>\n",
              "    <tr>\n",
              "      <th>2</th>\n",
              "      <td>55 Nicola Way,</td>\n",
              "      <td>UPPER COOMERA</td>\n",
              "      <td>4209</td>\n",
              "      <td>500</td>\n",
              "      <td>4</td>\n",
              "      <td>2</td>\n",
              "      <td>2</td>\n",
              "      <td>House</td>\n",
              "    </tr>\n",
              "    <tr>\n",
              "      <th>3</th>\n",
              "      <td>27 Florabella Drive,</td>\n",
              "      <td>ROBINA</td>\n",
              "      <td>4226</td>\n",
              "      <td>600</td>\n",
              "      <td>3</td>\n",
              "      <td>2</td>\n",
              "      <td>2</td>\n",
              "      <td>House</td>\n",
              "    </tr>\n",
              "    <tr>\n",
              "      <th>4</th>\n",
              "      <td>1/18 Lenneberg Street,</td>\n",
              "      <td>SOUTHPORT</td>\n",
              "      <td>4215</td>\n",
              "      <td>650</td>\n",
              "      <td>3</td>\n",
              "      <td>2</td>\n",
              "      <td>2</td>\n",
              "      <td>Townhouse</td>\n",
              "    </tr>\n",
              "  </tbody>\n",
              "</table>\n",
              "</div>"
            ],
            "text/plain": [
              "              Main Address Second Address  ... Parking spaces Building Type\n",
              "0           53 Oxford St,         PIMPAMA  ...              2         House\n",
              "1     1 Macarthur Street,         PIMPAMA  ...              2         House\n",
              "2          55 Nicola Way,   UPPER COOMERA  ...              2         House\n",
              "3    27 Florabella Drive,          ROBINA  ...              2         House\n",
              "4  1/18 Lenneberg Street,       SOUTHPORT  ...              2     Townhouse\n",
              "\n",
              "[5 rows x 8 columns]"
            ]
          },
          "metadata": {
            "tags": []
          },
          "execution_count": 39
        }
      ]
    },
    {
      "cell_type": "markdown",
      "metadata": {
        "id": "fGYz9f7KLw_g"
      },
      "source": [
        "## Get the latitude and Longitude"
      ]
    },
    {
      "cell_type": "code",
      "metadata": {
        "id": "3YnHSb7GL1a1"
      },
      "source": [
        "from geopy.geocoders import Nominatim\n",
        "geolocator = Nominatim(user_agent=\"my_user_agent\")\n"
      ],
      "execution_count": 47,
      "outputs": []
    },
    {
      "cell_type": "code",
      "metadata": {
        "colab": {
          "base_uri": "https://localhost:8080/"
        },
        "id": "p-nY7j1SMrG2",
        "outputId": "278f6924-a5fd-40e0-a4e3-a54a533d9405"
      },
      "source": [
        "housesNotFound = []\n",
        "for index, row in dfCopy.iterrows():\n",
        "  if '/' in row['Main Address']:\n",
        "    location =  geolocator.geocode(row['Main Address'].split('/',1)[1] +row['Second Address']) \n",
        "  else:\n",
        "    location = geolocator.geocode(row['Main Address']+row['Second Address']) \n",
        "  if location == None:\n",
        "    housesNotFound.append( row['Main Address']+row['Second Address'])\n",
        "    dfCopy.drop([index], inplace=True)\n",
        "  else:\n",
        "    dfCopy['Latitude'] = location.latitude\n",
        "    dfCopy['Longitude'] = location.longitude\n",
        "\n",
        "print('These houses were not found:'+ str(housesNotFound))"
      ],
      "execution_count": 48,
      "outputs": [
        {
          "output_type": "stream",
          "text": [
            "These houses were not found:[]\n"
          ],
          "name": "stdout"
        }
      ]
    },
    {
      "cell_type": "code",
      "metadata": {
        "colab": {
          "base_uri": "https://localhost:8080/"
        },
        "id": "VJ9O8qvaNhJO",
        "outputId": "85eba5a6-dc86-4ab7-d5c9-0013d6cc6cf9"
      },
      "source": [
        "housesNotFound"
      ],
      "execution_count": 46,
      "outputs": [
        {
          "output_type": "execute_result",
          "data": {
            "text/plain": [
              "[]"
            ]
          },
          "metadata": {
            "tags": []
          },
          "execution_count": 46
        }
      ]
    },
    {
      "cell_type": "code",
      "metadata": {
        "colab": {
          "base_uri": "https://localhost:8080/",
          "height": 419
        },
        "id": "G0baN8JCORSO",
        "outputId": "11e443de-5490-43c7-fedf-5d6e723c79e9"
      },
      "source": [
        "dfCopy"
      ],
      "execution_count": 49,
      "outputs": [
        {
          "output_type": "execute_result",
          "data": {
            "text/html": [
              "<div>\n",
              "<style scoped>\n",
              "    .dataframe tbody tr th:only-of-type {\n",
              "        vertical-align: middle;\n",
              "    }\n",
              "\n",
              "    .dataframe tbody tr th {\n",
              "        vertical-align: top;\n",
              "    }\n",
              "\n",
              "    .dataframe thead th {\n",
              "        text-align: right;\n",
              "    }\n",
              "</style>\n",
              "<table border=\"1\" class=\"dataframe\">\n",
              "  <thead>\n",
              "    <tr style=\"text-align: right;\">\n",
              "      <th></th>\n",
              "      <th>Main Address</th>\n",
              "      <th>Second Address</th>\n",
              "      <th>Postal Code</th>\n",
              "      <th>Rent</th>\n",
              "      <th>Bedrooms</th>\n",
              "      <th>Bathrooms</th>\n",
              "      <th>Parking spaces</th>\n",
              "      <th>Building Type</th>\n",
              "      <th>Latitude</th>\n",
              "      <th>Longitude</th>\n",
              "    </tr>\n",
              "  </thead>\n",
              "  <tbody>\n",
              "    <tr>\n",
              "      <th>1</th>\n",
              "      <td>1 Macarthur Street,</td>\n",
              "      <td>PIMPAMA</td>\n",
              "      <td>4209</td>\n",
              "      <td>490</td>\n",
              "      <td>4</td>\n",
              "      <td>1</td>\n",
              "      <td>2</td>\n",
              "      <td>House</td>\n",
              "      <td>53.645831</td>\n",
              "      <td>-2.993097</td>\n",
              "    </tr>\n",
              "    <tr>\n",
              "      <th>2</th>\n",
              "      <td>55 Nicola Way,</td>\n",
              "      <td>UPPER COOMERA</td>\n",
              "      <td>4209</td>\n",
              "      <td>500</td>\n",
              "      <td>4</td>\n",
              "      <td>2</td>\n",
              "      <td>2</td>\n",
              "      <td>House</td>\n",
              "      <td>53.645831</td>\n",
              "      <td>-2.993097</td>\n",
              "    </tr>\n",
              "    <tr>\n",
              "      <th>3</th>\n",
              "      <td>27 Florabella Drive,</td>\n",
              "      <td>ROBINA</td>\n",
              "      <td>4226</td>\n",
              "      <td>600</td>\n",
              "      <td>3</td>\n",
              "      <td>2</td>\n",
              "      <td>2</td>\n",
              "      <td>House</td>\n",
              "      <td>53.645831</td>\n",
              "      <td>-2.993097</td>\n",
              "    </tr>\n",
              "    <tr>\n",
              "      <th>4</th>\n",
              "      <td>1/18 Lenneberg Street,</td>\n",
              "      <td>SOUTHPORT</td>\n",
              "      <td>4215</td>\n",
              "      <td>650</td>\n",
              "      <td>3</td>\n",
              "      <td>2</td>\n",
              "      <td>2</td>\n",
              "      <td>Townhouse</td>\n",
              "      <td>53.645831</td>\n",
              "      <td>-2.993097</td>\n",
              "    </tr>\n",
              "    <tr>\n",
              "      <th>5</th>\n",
              "      <td>5/3 Central St,</td>\n",
              "      <td>LABRADOR</td>\n",
              "      <td>4215</td>\n",
              "      <td>350</td>\n",
              "      <td>1</td>\n",
              "      <td>1</td>\n",
              "      <td>1</td>\n",
              "      <td>Apartment / Unit / Flat</td>\n",
              "      <td>53.645831</td>\n",
              "      <td>-2.993097</td>\n",
              "    </tr>\n",
              "    <tr>\n",
              "      <th>...</th>\n",
              "      <td>...</td>\n",
              "      <td>...</td>\n",
              "      <td>...</td>\n",
              "      <td>...</td>\n",
              "      <td>...</td>\n",
              "      <td>...</td>\n",
              "      <td>...</td>\n",
              "      <td>...</td>\n",
              "      <td>...</td>\n",
              "      <td>...</td>\n",
              "    </tr>\n",
              "    <tr>\n",
              "      <th>94</th>\n",
              "      <td>17/120 The Esplanade,</td>\n",
              "      <td>SURFERS PARADISE</td>\n",
              "      <td>4217</td>\n",
              "      <td>380</td>\n",
              "      <td>2</td>\n",
              "      <td>1</td>\n",
              "      <td>1</td>\n",
              "      <td>Apartment / Unit / Flat</td>\n",
              "      <td>53.645831</td>\n",
              "      <td>-2.993097</td>\n",
              "    </tr>\n",
              "    <tr>\n",
              "      <th>95</th>\n",
              "      <td>26 Springsure Drive,</td>\n",
              "      <td>MUDGEERABA</td>\n",
              "      <td>4213</td>\n",
              "      <td>650</td>\n",
              "      <td>3</td>\n",
              "      <td>2</td>\n",
              "      <td>2</td>\n",
              "      <td>House</td>\n",
              "      <td>53.645831</td>\n",
              "      <td>-2.993097</td>\n",
              "    </tr>\n",
              "    <tr>\n",
              "      <th>96</th>\n",
              "      <td>19 Norfolk Avenue,</td>\n",
              "      <td>SURFERS PARADISE</td>\n",
              "      <td>4217</td>\n",
              "      <td>600</td>\n",
              "      <td>3</td>\n",
              "      <td>2</td>\n",
              "      <td>2</td>\n",
              "      <td>House</td>\n",
              "      <td>53.645831</td>\n",
              "      <td>-2.993097</td>\n",
              "    </tr>\n",
              "    <tr>\n",
              "      <th>97</th>\n",
              "      <td>3/57 Garrick Street,</td>\n",
              "      <td>COOLANGATTA</td>\n",
              "      <td>4225</td>\n",
              "      <td>485</td>\n",
              "      <td>2</td>\n",
              "      <td>1</td>\n",
              "      <td>1</td>\n",
              "      <td>Apartment / Unit / Flat</td>\n",
              "      <td>53.645831</td>\n",
              "      <td>-2.993097</td>\n",
              "    </tr>\n",
              "    <tr>\n",
              "      <th>98</th>\n",
              "      <td>6 AQUA,</td>\n",
              "      <td>SOUTHPORT</td>\n",
              "      <td>4215</td>\n",
              "      <td>560</td>\n",
              "      <td>2</td>\n",
              "      <td>2</td>\n",
              "      <td>1</td>\n",
              "      <td>Apartment / Unit / Flat</td>\n",
              "      <td>53.645831</td>\n",
              "      <td>-2.993097</td>\n",
              "    </tr>\n",
              "  </tbody>\n",
              "</table>\n",
              "<p>90 rows × 10 columns</p>\n",
              "</div>"
            ],
            "text/plain": [
              "               Main Address    Second Address  ...   Latitude Longitude\n",
              "1      1 Macarthur Street,            PIMPAMA  ...  53.645831 -2.993097\n",
              "2           55 Nicola Way,      UPPER COOMERA  ...  53.645831 -2.993097\n",
              "3     27 Florabella Drive,             ROBINA  ...  53.645831 -2.993097\n",
              "4   1/18 Lenneberg Street,          SOUTHPORT  ...  53.645831 -2.993097\n",
              "5          5/3 Central St,           LABRADOR  ...  53.645831 -2.993097\n",
              "..                      ...               ...  ...        ...       ...\n",
              "94   17/120 The Esplanade,   SURFERS PARADISE  ...  53.645831 -2.993097\n",
              "95    26 Springsure Drive,         MUDGEERABA  ...  53.645831 -2.993097\n",
              "96      19 Norfolk Avenue,   SURFERS PARADISE  ...  53.645831 -2.993097\n",
              "97    3/57 Garrick Street,        COOLANGATTA  ...  53.645831 -2.993097\n",
              "98                 6 AQUA,          SOUTHPORT  ...  53.645831 -2.993097\n",
              "\n",
              "[90 rows x 10 columns]"
            ]
          },
          "metadata": {
            "tags": []
          },
          "execution_count": 49
        }
      ]
    },
    {
      "cell_type": "markdown",
      "metadata": {
        "id": "FCvzSGi8jMqt"
      },
      "source": [
        "### 3. Data Analysis"
      ]
    },
    {
      "cell_type": "code",
      "metadata": {
        "colab": {
          "base_uri": "https://localhost:8080/"
        },
        "id": "WYXxVv-dV3Bd",
        "outputId": "7704b5cc-6d96-448f-e518-7e00647dd110"
      },
      "source": [
        "! pip install folium"
      ],
      "execution_count": 50,
      "outputs": [
        {
          "output_type": "stream",
          "text": [
            "Requirement already satisfied: folium in /usr/local/lib/python3.7/dist-packages (0.8.3)\n",
            "Requirement already satisfied: six in /usr/local/lib/python3.7/dist-packages (from folium) (1.15.0)\n",
            "Requirement already satisfied: requests in /usr/local/lib/python3.7/dist-packages (from folium) (2.23.0)\n",
            "Requirement already satisfied: branca>=0.3.0 in /usr/local/lib/python3.7/dist-packages (from folium) (0.4.2)\n",
            "Requirement already satisfied: numpy in /usr/local/lib/python3.7/dist-packages (from folium) (1.19.5)\n",
            "Requirement already satisfied: jinja2 in /usr/local/lib/python3.7/dist-packages (from folium) (2.11.3)\n",
            "Requirement already satisfied: chardet<4,>=3.0.2 in /usr/local/lib/python3.7/dist-packages (from requests->folium) (3.0.4)\n",
            "Requirement already satisfied: certifi>=2017.4.17 in /usr/local/lib/python3.7/dist-packages (from requests->folium) (2020.12.5)\n",
            "Requirement already satisfied: urllib3!=1.25.0,!=1.25.1,<1.26,>=1.21.1 in /usr/local/lib/python3.7/dist-packages (from requests->folium) (1.24.3)\n",
            "Requirement already satisfied: idna<3,>=2.5 in /usr/local/lib/python3.7/dist-packages (from requests->folium) (2.10)\n",
            "Requirement already satisfied: MarkupSafe>=0.23 in /usr/local/lib/python3.7/dist-packages (from jinja2->folium) (1.1.1)\n"
          ],
          "name": "stdout"
        }
      ]
    },
    {
      "cell_type": "code",
      "metadata": {
        "id": "SSJhnLfVWbXF"
      },
      "source": [
        "import folium"
      ],
      "execution_count": 52,
      "outputs": []
    },
    {
      "cell_type": "code",
      "metadata": {
        "id": "36kCB-95tT6Y"
      },
      "source": [
        "goldCoastMap = folium.Map(location = [-28.0167, 153.4000],  \n",
        "                          zoom_start = 10,\n",
        "                          tiles=\"CartoDB positron\")"
      ],
      "execution_count": 61,
      "outputs": []
    },
    {
      "cell_type": "code",
      "metadata": {
        "colab": {
          "base_uri": "https://localhost:8080/",
          "height": 1000
        },
        "id": "l3lj6xEkV-d_",
        "outputId": "6a2848df-7358-4f5f-fbae-7523657966a2"
      },
      "source": [
        "goldCoastMap"
      ],
      "execution_count": 62,
      "outputs": [
        {
          "output_type": "execute_result",
          "data": {
            "text/html": [
              "<div style=\"width:100%;\"><div style=\"position:relative;width:100%;height:0;padding-bottom:60%;\"><span style=\"color:#565656\">Make this Notebook Trusted to load map: File -> Trust Notebook</span><iframe src=\"about:blank\" style=\"position:absolute;width:100%;height:100%;left:0;top:0;border:none !important;\" data-html=%3C%21DOCTYPE%20html%3E%0A%3Chead%3E%20%20%20%20%0A%20%20%20%20%3Cmeta%20http-equiv%3D%22content-type%22%20content%3D%22text/html%3B%20charset%3DUTF-8%22%20/%3E%0A%20%20%20%20%3Cscript%3EL_PREFER_CANVAS%3Dfalse%3B%20L_NO_TOUCH%3Dfalse%3B%20L_DISABLE_3D%3Dfalse%3B%3C/script%3E%0A%20%20%20%20%3Cscript%20src%3D%22https%3A//cdn.jsdelivr.net/npm/leaflet%401.4.0/dist/leaflet.js%22%3E%3C/script%3E%0A%20%20%20%20%3Cscript%20src%3D%22https%3A//code.jquery.com/jquery-1.12.4.min.js%22%3E%3C/script%3E%0A%20%20%20%20%3Cscript%20src%3D%22https%3A//maxcdn.bootstrapcdn.com/bootstrap/3.2.0/js/bootstrap.min.js%22%3E%3C/script%3E%0A%20%20%20%20%3Cscript%20src%3D%22https%3A//cdnjs.cloudflare.com/ajax/libs/Leaflet.awesome-markers/2.0.2/leaflet.awesome-markers.js%22%3E%3C/script%3E%0A%20%20%20%20%3Clink%20rel%3D%22stylesheet%22%20href%3D%22https%3A//cdn.jsdelivr.net/npm/leaflet%401.4.0/dist/leaflet.css%22/%3E%0A%20%20%20%20%3Clink%20rel%3D%22stylesheet%22%20href%3D%22https%3A//maxcdn.bootstrapcdn.com/bootstrap/3.2.0/css/bootstrap.min.css%22/%3E%0A%20%20%20%20%3Clink%20rel%3D%22stylesheet%22%20href%3D%22https%3A//maxcdn.bootstrapcdn.com/bootstrap/3.2.0/css/bootstrap-theme.min.css%22/%3E%0A%20%20%20%20%3Clink%20rel%3D%22stylesheet%22%20href%3D%22https%3A//maxcdn.bootstrapcdn.com/font-awesome/4.6.3/css/font-awesome.min.css%22/%3E%0A%20%20%20%20%3Clink%20rel%3D%22stylesheet%22%20href%3D%22https%3A//cdnjs.cloudflare.com/ajax/libs/Leaflet.awesome-markers/2.0.2/leaflet.awesome-markers.css%22/%3E%0A%20%20%20%20%3Clink%20rel%3D%22stylesheet%22%20href%3D%22https%3A//rawcdn.githack.com/python-visualization/folium/master/folium/templates/leaflet.awesome.rotate.css%22/%3E%0A%20%20%20%20%3Cstyle%3Ehtml%2C%20body%20%7Bwidth%3A%20100%25%3Bheight%3A%20100%25%3Bmargin%3A%200%3Bpadding%3A%200%3B%7D%3C/style%3E%0A%20%20%20%20%3Cstyle%3E%23map%20%7Bposition%3Aabsolute%3Btop%3A0%3Bbottom%3A0%3Bright%3A0%3Bleft%3A0%3B%7D%3C/style%3E%0A%20%20%20%20%0A%20%20%20%20%3Cmeta%20name%3D%22viewport%22%20content%3D%22width%3Ddevice-width%2C%0A%20%20%20%20%20%20%20%20initial-scale%3D1.0%2C%20maximum-scale%3D1.0%2C%20user-scalable%3Dno%22%20/%3E%0A%20%20%20%20%3Cstyle%3E%23map_e322e85408a04d90a8f65109aca06a80%20%7B%0A%20%20%20%20%20%20%20%20position%3A%20relative%3B%0A%20%20%20%20%20%20%20%20width%3A%20100.0%25%3B%0A%20%20%20%20%20%20%20%20height%3A%20100.0%25%3B%0A%20%20%20%20%20%20%20%20left%3A%200.0%25%3B%0A%20%20%20%20%20%20%20%20top%3A%200.0%25%3B%0A%20%20%20%20%20%20%20%20%7D%0A%20%20%20%20%3C/style%3E%0A%3C/head%3E%0A%3Cbody%3E%20%20%20%20%0A%20%20%20%20%0A%20%20%20%20%3Cdiv%20class%3D%22folium-map%22%20id%3D%22map_e322e85408a04d90a8f65109aca06a80%22%20%3E%3C/div%3E%0A%3C/body%3E%0A%3Cscript%3E%20%20%20%20%0A%20%20%20%20%0A%20%20%20%20%0A%20%20%20%20%20%20%20%20var%20bounds%20%3D%20null%3B%0A%20%20%20%20%0A%0A%20%20%20%20var%20map_e322e85408a04d90a8f65109aca06a80%20%3D%20L.map%28%0A%20%20%20%20%20%20%20%20%27map_e322e85408a04d90a8f65109aca06a80%27%2C%20%7B%0A%20%20%20%20%20%20%20%20center%3A%20%5B-28.0167%2C%20153.4%5D%2C%0A%20%20%20%20%20%20%20%20zoom%3A%2010%2C%0A%20%20%20%20%20%20%20%20maxBounds%3A%20bounds%2C%0A%20%20%20%20%20%20%20%20layers%3A%20%5B%5D%2C%0A%20%20%20%20%20%20%20%20worldCopyJump%3A%20false%2C%0A%20%20%20%20%20%20%20%20crs%3A%20L.CRS.EPSG3857%2C%0A%20%20%20%20%20%20%20%20zoomControl%3A%20true%2C%0A%20%20%20%20%20%20%20%20%7D%29%3B%0A%0A%0A%20%20%20%20%0A%20%20%20%20var%20tile_layer_a7b0ff86293046eca109ac4174db1a22%20%3D%20L.tileLayer%28%0A%20%20%20%20%20%20%20%20%27https%3A//cartodb-basemaps-%7Bs%7D.global.ssl.fastly.net/light_all/%7Bz%7D/%7Bx%7D/%7By%7D.png%27%2C%0A%20%20%20%20%20%20%20%20%7B%0A%20%20%20%20%20%20%20%20%22attribution%22%3A%20null%2C%0A%20%20%20%20%20%20%20%20%22detectRetina%22%3A%20false%2C%0A%20%20%20%20%20%20%20%20%22maxNativeZoom%22%3A%2018%2C%0A%20%20%20%20%20%20%20%20%22maxZoom%22%3A%2018%2C%0A%20%20%20%20%20%20%20%20%22minZoom%22%3A%200%2C%0A%20%20%20%20%20%20%20%20%22noWrap%22%3A%20false%2C%0A%20%20%20%20%20%20%20%20%22opacity%22%3A%201%2C%0A%20%20%20%20%20%20%20%20%22subdomains%22%3A%20%22abc%22%2C%0A%20%20%20%20%20%20%20%20%22tms%22%3A%20false%0A%7D%29.addTo%28map_e322e85408a04d90a8f65109aca06a80%29%3B%0A%3C/script%3E onload=\"this.contentDocument.open();this.contentDocument.write(    decodeURIComponent(this.getAttribute('data-html')));this.contentDocument.close();\" allowfullscreen webkitallowfullscreen mozallowfullscreen></iframe></div></div>"
            ],
            "text/plain": [
              "<folium.folium.Map at 0x7f01ed20e890>"
            ]
          },
          "metadata": {
            "tags": []
          },
          "execution_count": 62
        }
      ]
    },
    {
      "cell_type": "code",
      "metadata": {
        "id": "fAaeJH8vWfgt"
      },
      "source": [
        ""
      ],
      "execution_count": null,
      "outputs": []
    }
  ]
}